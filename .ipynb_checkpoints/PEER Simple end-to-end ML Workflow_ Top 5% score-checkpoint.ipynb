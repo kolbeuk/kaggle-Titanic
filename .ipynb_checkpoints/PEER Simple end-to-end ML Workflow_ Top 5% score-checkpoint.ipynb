{
 "cells": [
  {
   "cell_type": "markdown",
   "metadata": {
    "_uuid": "0e73ad030971b6e628ef9bfe00121254325ebfb7"
   },
   "source": [
    "# Titanic: Machine Learning from Disaster\n",
    "\n",
    "## Table of contents\n",
    "\n",
    "- <b>Introduction</b>\n",
    "- <b>Step 1:</b> Import libraries & data\n",
    "- <b>Step 2:</b> Join data files\n",
    "- <b>Step 3:</b> Initial inspection\n",
    "- <b>Step 4:</b> Visual data exploration\n",
    "    - <i>Survived</i>\n",
    "    - <i>Pclass</i> \n",
    "    - <i>Age</i>\n",
    "    - <i>SibSp & Parch</i>\n",
    "    - <i>Fare</i>\n",
    "- <b>Step 5:</b> Feature Engineering\n",
    "    - <i>Family survival</i>\n",
    "    - <i>Fare</i>\n",
    "    - <i>Name</i>\n",
    "    - <i>Age</i>\n",
    "    - <i>Sex</i>\n",
    "    - <i>Embarked</i>\n",
    "    - <i>Cabin</i>\n",
    "    - <i>SibSp & ParCh</i>\n",
    "    - <i>Final look</i>\n",
    "- <b>Step 6:</b> Machine Learning\n",
    "    - <i>Initial models</i>\n",
    "    - <i>Feature selection</i>\n",
    "    - <i>Model tuning</i>\n",
    "    - <i>Voting Classifier</i>\n",
    "- <b>Step 7:</b> Final model predictions and submission"
   ]
  },
  {
   "cell_type": "markdown",
   "metadata": {
    "_uuid": "33fee443c9b9c4acef23314caff3a7b3c4d7dcb6"
   },
   "source": [
    "# Introduction\n",
    "\n",
    "Welcome Kagglers! In this kernel, I will be working with the very famous Titanic dataset. It provides information on the fate of each passenger on board the vessel when it tragically sank on its maiden voyage in 1912. Inclusive in the file is further passenger information including age, sex, ticket type and cabin. The challenge set by Kaggle using this dataset is to build a predictive model that can determine whether or not an individual would have survived the 1912 tragedy.\n",
    "\n",
    "This kernel is ideally pitched at relative beginners to Data Science & Machine Learning, who already have a grasp of the key concepts and a typical workflow and are now interested in learning some further (simple) tools and tricks in order to yield a strong competition score. At the time of submission, this kernel obtained a score (0.818) that pitched me within the top 5% of the leaderboard. It's now currently flitting between the top 5%/6%. \n",
    "\n",
    "Please ask any questions that you have on my code or approach, or suggestions if you think any part could be done better - I am always looking to improve! And if you found this kernel helpful, i'd very much like to hear it :). OK, the last thing to now say is: Enjoy the read!"
   ]
  },
  {
   "cell_type": "markdown",
   "metadata": {
    "_uuid": "88b23c89c6d574a967adf5ae323a8ac584e9301d"
   },
   "source": [
    "## 1. Import libraries & data\n",
    "\n",
    "I will firstly begin by importing every library that will be used at somepoint throughout this project. "
   ]
  },
  {
   "cell_type": "code",
   "execution_count": 1,
   "metadata": {
    "_uuid": "963a8ae130f516ebeb07c872f9b1a29b172c594d"
   },
   "outputs": [],
   "source": [
    "# Every library that will be used in this project is imported at the start.\n",
    "\n",
    "# Data handling and processing\n",
    "import pandas as pd\n",
    "import numpy as np\n",
    "\n",
    "# Data visualisation & images\n",
    "import matplotlib.pyplot as plt\n",
    "import seaborn as sns\n",
    "\n",
    "# Pipeline and machine learning algorithms\n",
    "from sklearn.preprocessing import LabelEncoder\n",
    "from sklearn.preprocessing import StandardScaler\n",
    "from sklearn.neighbors import KNeighborsClassifier\n",
    "from sklearn.linear_model import LogisticRegression\n",
    "from sklearn.ensemble import RandomForestClassifier\n",
    "from sklearn.svm import SVC\n",
    "from xgboost import XGBClassifier\n",
    "from sklearn.ensemble import GradientBoostingClassifier\n",
    "from sklearn.ensemble import ExtraTreesClassifier\n",
    "from sklearn.ensemble import AdaBoostClassifier\n",
    "from sklearn.gaussian_process import GaussianProcessClassifier\n",
    "from sklearn.naive_bayes import GaussianNB\n",
    "from sklearn.ensemble import BaggingClassifier\n",
    "from sklearn.ensemble import VotingClassifier\n",
    "\n",
    "# Model fine-tuning and evaluation\n",
    "from sklearn.model_selection import cross_val_score\n",
    "from sklearn.model_selection import GridSearchCV\n",
    "from sklearn.model_selection import cross_val_predict\n",
    "from sklearn import model_selection\n",
    "\n",
    "# Hide system warnings\n",
    "import sys\n",
    "import warnings\n",
    "\n",
    "if not sys.warnoptions:\n",
    "    warnings.simplefilter(\"ignore\")"
   ]
  },
  {
   "cell_type": "markdown",
   "metadata": {
    "_uuid": "93d096e3c5cd0176e18f6f560c8b02a2916fd5a9"
   },
   "source": [
    "You may already know this, however for those who may not, datasets on Kaggle are typically split into two separate files, a train set and a test set. We 'train' and optimise our predictive model on the train set, holding back the test set data for final prediction and submission. We want our model to generalise well to new, never before seen data, hence the test set provides this barometer to us. If our model could predict accurately on the train set, but then fails to generalise to new data (e.g. it predicts poorly), this is a sign that it has 'overfit' to the unique characteristics of the train data. We don't the know 'Survived' labels of the test set, and that's what we're here to find out. If our model can't generalise to new data, it won't be very good in predicting these new labels for us. Therefore, the model won't be very useful!"
   ]
  },
  {
   "cell_type": "code",
   "execution_count": 2,
   "metadata": {
    "_uuid": "668b16bab39db1dc15a3364ba914eb59650568c4"
   },
   "outputs": [],
   "source": [
    "# Data downloaded from Kaggle as a .csv file and read into this notebook from my local directory.\n",
    "train = pd.read_csv('train.csv')\n",
    "test = pd.read_csv('test.csv')"
   ]
  },
  {
   "cell_type": "markdown",
   "metadata": {
    "_uuid": "bb91ed0844405c0638bc85c903e1fdb9c5433b15"
   },
   "source": [
    "## 2. Join data files\n",
    "It's helpful to bring the train and test files together for all steps pre-modelling. That way, we can inspect and edit features within one line of code rather than having duplicte every action over both the train and test set individually. The below code completes this combination."
   ]
  },
  {
   "cell_type": "code",
   "execution_count": 3,
   "metadata": {
    "_uuid": "441b64b0a37b71b619e1ebe54f82db60a94007b6"
   },
   "outputs": [
    {
     "name": "stdout",
     "output_type": "stream",
     "text": [
      "data size is: (1309, 12)\n"
     ]
    }
   ],
   "source": [
    "# Join all data into one file\n",
    "ntrain = train.shape[0]\n",
    "ntest = test.shape[0]\n",
    "\n",
    "# Creating y_train variable; we'll need this when modelling, but not before\n",
    "y_train = train['Survived'].values\n",
    "\n",
    "# Saving the passenger ID's ready for our submission file at the very end\n",
    "passId = test['PassengerId']\n",
    "\n",
    "# Create a new all-encompassing dataset\n",
    "data = pd.concat((train, test))\n",
    "\n",
    "# Printing overall data shape\n",
    "print(\"data size is: {}\".format(data.shape))"
   ]
  },
  {
   "cell_type": "markdown",
   "metadata": {
    "_uuid": "8caaf6ff8644c4bf05b0fc684617ee5bea7cb53d"
   },
   "source": [
    "## 3. Initial inspection"
   ]
  },
  {
   "cell_type": "code",
   "execution_count": 4,
   "metadata": {
    "_uuid": "9c729e4378699ed86af2136f9d4ad98f65946bb8"
   },
   "outputs": [
    {
     "name": "stdout",
     "output_type": "stream",
     "text": [
      "<class 'pandas.core.frame.DataFrame'>\n",
      "Int64Index: 1309 entries, 0 to 417\n",
      "Data columns (total 12 columns):\n",
      "Age            1046 non-null float64\n",
      "Cabin          295 non-null object\n",
      "Embarked       1307 non-null object\n",
      "Fare           1308 non-null float64\n",
      "Name           1309 non-null object\n",
      "Parch          1309 non-null int64\n",
      "PassengerId    1309 non-null int64\n",
      "Pclass         1309 non-null int64\n",
      "Sex            1309 non-null object\n",
      "SibSp          1309 non-null int64\n",
      "Survived       891 non-null float64\n",
      "Ticket         1309 non-null object\n",
      "dtypes: float64(3), int64(4), object(5)\n",
      "memory usage: 132.9+ KB\n"
     ]
    }
   ],
   "source": [
    "# Let's see some basic info about the dataset\n",
    "data.info()"
   ]
  },
  {
   "cell_type": "markdown",
   "metadata": {
    "_uuid": "045042bdf04d20a79331276e79d3388bfc8d7a46"
   },
   "source": [
    "We can initially see a mixture of numbers (float & int) & words (objects) in this dataset, and some missing values that we'll need to take care of later. Machine Learning does not take kindly to missing values, that is, it will not work. So we'll need to fill them in somehow.\n",
    "\n",
    "For reference, here's a description of what each feature contains:\n",
    "\n",
    "<b> - PassengerId:</b> The unique identifier in this Data file <br>\n",
    "<b> - Survived:</b>    The fate of each passenger (target) <br>\n",
    "<b> - Pclass:</b>      The ticket class <br>\n",
    "<b> - Name:</b>       The passenger name <br>\n",
    "<b> - Sex:</b>         The passenger sex <br>\n",
    "<b> - Age:</b>         The passenger age in years   \n",
    "<b> - Sibsp:</b>       The number of siblings/spouses also travelling <br>\n",
    "<b> - Parch:</b>       The number of parents/children also travelling <br>\n",
    "<b> - Ticket:</b>      The passenger ticket number <br>\n",
    "<b> - Fare:</b>        The passenger fare <br>\n",
    "<b> - Cabin:</b>       The passenger cabin number <br>\n",
    "<b> - Embarked:</b>    The passenger's port of Embarkation <br>"
   ]
  },
  {
   "cell_type": "code",
   "execution_count": 5,
   "metadata": {
    "_uuid": "d1affe1e6df30e5e0b15ec7905652d9a7afde86b"
   },
   "outputs": [
    {
     "data": {
      "text/html": [
       "<div>\n",
       "<style scoped>\n",
       "    .dataframe tbody tr th:only-of-type {\n",
       "        vertical-align: middle;\n",
       "    }\n",
       "\n",
       "    .dataframe tbody tr th {\n",
       "        vertical-align: top;\n",
       "    }\n",
       "\n",
       "    .dataframe thead th {\n",
       "        text-align: right;\n",
       "    }\n",
       "</style>\n",
       "<table border=\"1\" class=\"dataframe\">\n",
       "  <thead>\n",
       "    <tr style=\"text-align: right;\">\n",
       "      <th></th>\n",
       "      <th>Age</th>\n",
       "      <th>Cabin</th>\n",
       "      <th>Embarked</th>\n",
       "      <th>Fare</th>\n",
       "      <th>Name</th>\n",
       "      <th>Parch</th>\n",
       "      <th>PassengerId</th>\n",
       "      <th>Pclass</th>\n",
       "      <th>Sex</th>\n",
       "      <th>SibSp</th>\n",
       "      <th>Survived</th>\n",
       "      <th>Ticket</th>\n",
       "    </tr>\n",
       "  </thead>\n",
       "  <tbody>\n",
       "    <tr>\n",
       "      <td>0</td>\n",
       "      <td>22.0</td>\n",
       "      <td>NaN</td>\n",
       "      <td>S</td>\n",
       "      <td>7.2500</td>\n",
       "      <td>Braund, Mr. Owen Harris</td>\n",
       "      <td>0</td>\n",
       "      <td>1</td>\n",
       "      <td>3</td>\n",
       "      <td>male</td>\n",
       "      <td>1</td>\n",
       "      <td>0.0</td>\n",
       "      <td>A/5 21171</td>\n",
       "    </tr>\n",
       "    <tr>\n",
       "      <td>1</td>\n",
       "      <td>38.0</td>\n",
       "      <td>C85</td>\n",
       "      <td>C</td>\n",
       "      <td>71.2833</td>\n",
       "      <td>Cumings, Mrs. John Bradley (Florence Briggs Th...</td>\n",
       "      <td>0</td>\n",
       "      <td>2</td>\n",
       "      <td>1</td>\n",
       "      <td>female</td>\n",
       "      <td>1</td>\n",
       "      <td>1.0</td>\n",
       "      <td>PC 17599</td>\n",
       "    </tr>\n",
       "    <tr>\n",
       "      <td>2</td>\n",
       "      <td>26.0</td>\n",
       "      <td>NaN</td>\n",
       "      <td>S</td>\n",
       "      <td>7.9250</td>\n",
       "      <td>Heikkinen, Miss. Laina</td>\n",
       "      <td>0</td>\n",
       "      <td>3</td>\n",
       "      <td>3</td>\n",
       "      <td>female</td>\n",
       "      <td>0</td>\n",
       "      <td>1.0</td>\n",
       "      <td>STON/O2. 3101282</td>\n",
       "    </tr>\n",
       "    <tr>\n",
       "      <td>3</td>\n",
       "      <td>35.0</td>\n",
       "      <td>C123</td>\n",
       "      <td>S</td>\n",
       "      <td>53.1000</td>\n",
       "      <td>Futrelle, Mrs. Jacques Heath (Lily May Peel)</td>\n",
       "      <td>0</td>\n",
       "      <td>4</td>\n",
       "      <td>1</td>\n",
       "      <td>female</td>\n",
       "      <td>1</td>\n",
       "      <td>1.0</td>\n",
       "      <td>113803</td>\n",
       "    </tr>\n",
       "    <tr>\n",
       "      <td>4</td>\n",
       "      <td>35.0</td>\n",
       "      <td>NaN</td>\n",
       "      <td>S</td>\n",
       "      <td>8.0500</td>\n",
       "      <td>Allen, Mr. William Henry</td>\n",
       "      <td>0</td>\n",
       "      <td>5</td>\n",
       "      <td>3</td>\n",
       "      <td>male</td>\n",
       "      <td>0</td>\n",
       "      <td>0.0</td>\n",
       "      <td>373450</td>\n",
       "    </tr>\n",
       "  </tbody>\n",
       "</table>\n",
       "</div>"
      ],
      "text/plain": [
       "    Age Cabin Embarked     Fare  \\\n",
       "0  22.0   NaN        S   7.2500   \n",
       "1  38.0   C85        C  71.2833   \n",
       "2  26.0   NaN        S   7.9250   \n",
       "3  35.0  C123        S  53.1000   \n",
       "4  35.0   NaN        S   8.0500   \n",
       "\n",
       "                                                Name  Parch  PassengerId  \\\n",
       "0                            Braund, Mr. Owen Harris      0            1   \n",
       "1  Cumings, Mrs. John Bradley (Florence Briggs Th...      0            2   \n",
       "2                             Heikkinen, Miss. Laina      0            3   \n",
       "3       Futrelle, Mrs. Jacques Heath (Lily May Peel)      0            4   \n",
       "4                           Allen, Mr. William Henry      0            5   \n",
       "\n",
       "   Pclass     Sex  SibSp  Survived            Ticket  \n",
       "0       3    male      1       0.0         A/5 21171  \n",
       "1       1  female      1       1.0          PC 17599  \n",
       "2       3  female      0       1.0  STON/O2. 3101282  \n",
       "3       1  female      1       1.0            113803  \n",
       "4       3    male      0       0.0            373450  "
      ]
     },
     "execution_count": 5,
     "metadata": {},
     "output_type": "execute_result"
    }
   ],
   "source": [
    "# Inspecting the first five rows, or 'observations'\n",
    "data.head()"
   ]
  },
  {
   "cell_type": "markdown",
   "metadata": {
    "_uuid": "89685b9aa23324e036379cfdffed90be7910fef7"
   },
   "source": [
    "Evidence of missing values is straight away evident in the 'cabin' column - NaN (not a number) indicates this. Ticket type also looks like a bit of a mish/mash - initial thoughts are that this might prove a difficult feature to engineer anything meaningful out of. "
   ]
  },
  {
   "cell_type": "code",
   "execution_count": 6,
   "metadata": {
    "_uuid": "8d19ce7987a34ceb0fabeae68d8d565f15a0f157"
   },
   "outputs": [
    {
     "data": {
      "text/html": [
       "<div>\n",
       "<style scoped>\n",
       "    .dataframe tbody tr th:only-of-type {\n",
       "        vertical-align: middle;\n",
       "    }\n",
       "\n",
       "    .dataframe tbody tr th {\n",
       "        vertical-align: top;\n",
       "    }\n",
       "\n",
       "    .dataframe thead th {\n",
       "        text-align: right;\n",
       "    }\n",
       "</style>\n",
       "<table border=\"1\" class=\"dataframe\">\n",
       "  <thead>\n",
       "    <tr style=\"text-align: right;\">\n",
       "      <th></th>\n",
       "      <th>Age</th>\n",
       "      <th>Fare</th>\n",
       "      <th>Parch</th>\n",
       "      <th>PassengerId</th>\n",
       "      <th>Pclass</th>\n",
       "      <th>SibSp</th>\n",
       "      <th>Survived</th>\n",
       "    </tr>\n",
       "  </thead>\n",
       "  <tbody>\n",
       "    <tr>\n",
       "      <td>count</td>\n",
       "      <td>1046.000000</td>\n",
       "      <td>1308.000000</td>\n",
       "      <td>1309.000000</td>\n",
       "      <td>1309.000000</td>\n",
       "      <td>1309.000000</td>\n",
       "      <td>1309.000000</td>\n",
       "      <td>891.000000</td>\n",
       "    </tr>\n",
       "    <tr>\n",
       "      <td>mean</td>\n",
       "      <td>29.881138</td>\n",
       "      <td>33.295479</td>\n",
       "      <td>0.385027</td>\n",
       "      <td>655.000000</td>\n",
       "      <td>2.294882</td>\n",
       "      <td>0.498854</td>\n",
       "      <td>0.383838</td>\n",
       "    </tr>\n",
       "    <tr>\n",
       "      <td>std</td>\n",
       "      <td>14.413493</td>\n",
       "      <td>51.758668</td>\n",
       "      <td>0.865560</td>\n",
       "      <td>378.020061</td>\n",
       "      <td>0.837836</td>\n",
       "      <td>1.041658</td>\n",
       "      <td>0.486592</td>\n",
       "    </tr>\n",
       "    <tr>\n",
       "      <td>min</td>\n",
       "      <td>0.170000</td>\n",
       "      <td>0.000000</td>\n",
       "      <td>0.000000</td>\n",
       "      <td>1.000000</td>\n",
       "      <td>1.000000</td>\n",
       "      <td>0.000000</td>\n",
       "      <td>0.000000</td>\n",
       "    </tr>\n",
       "    <tr>\n",
       "      <td>25%</td>\n",
       "      <td>21.000000</td>\n",
       "      <td>7.895800</td>\n",
       "      <td>0.000000</td>\n",
       "      <td>328.000000</td>\n",
       "      <td>2.000000</td>\n",
       "      <td>0.000000</td>\n",
       "      <td>0.000000</td>\n",
       "    </tr>\n",
       "    <tr>\n",
       "      <td>50%</td>\n",
       "      <td>28.000000</td>\n",
       "      <td>14.454200</td>\n",
       "      <td>0.000000</td>\n",
       "      <td>655.000000</td>\n",
       "      <td>3.000000</td>\n",
       "      <td>0.000000</td>\n",
       "      <td>0.000000</td>\n",
       "    </tr>\n",
       "    <tr>\n",
       "      <td>75%</td>\n",
       "      <td>39.000000</td>\n",
       "      <td>31.275000</td>\n",
       "      <td>0.000000</td>\n",
       "      <td>982.000000</td>\n",
       "      <td>3.000000</td>\n",
       "      <td>1.000000</td>\n",
       "      <td>1.000000</td>\n",
       "    </tr>\n",
       "    <tr>\n",
       "      <td>max</td>\n",
       "      <td>80.000000</td>\n",
       "      <td>512.329200</td>\n",
       "      <td>9.000000</td>\n",
       "      <td>1309.000000</td>\n",
       "      <td>3.000000</td>\n",
       "      <td>8.000000</td>\n",
       "      <td>1.000000</td>\n",
       "    </tr>\n",
       "  </tbody>\n",
       "</table>\n",
       "</div>"
      ],
      "text/plain": [
       "               Age         Fare        Parch  PassengerId       Pclass  \\\n",
       "count  1046.000000  1308.000000  1309.000000  1309.000000  1309.000000   \n",
       "mean     29.881138    33.295479     0.385027   655.000000     2.294882   \n",
       "std      14.413493    51.758668     0.865560   378.020061     0.837836   \n",
       "min       0.170000     0.000000     0.000000     1.000000     1.000000   \n",
       "25%      21.000000     7.895800     0.000000   328.000000     2.000000   \n",
       "50%      28.000000    14.454200     0.000000   655.000000     3.000000   \n",
       "75%      39.000000    31.275000     0.000000   982.000000     3.000000   \n",
       "max      80.000000   512.329200     9.000000  1309.000000     3.000000   \n",
       "\n",
       "             SibSp    Survived  \n",
       "count  1309.000000  891.000000  \n",
       "mean      0.498854    0.383838  \n",
       "std       1.041658    0.486592  \n",
       "min       0.000000    0.000000  \n",
       "25%       0.000000    0.000000  \n",
       "50%       0.000000    0.000000  \n",
       "75%       1.000000    1.000000  \n",
       "max       8.000000    1.000000  "
      ]
     },
     "execution_count": 6,
     "metadata": {},
     "output_type": "execute_result"
    }
   ],
   "source": [
    "# Returning descriptive statistics of the train dataset\n",
    "data.describe()"
   ]
  },
  {
   "cell_type": "markdown",
   "metadata": {
    "_uuid": "af1ae08bcfeb800c8841a1702e7340aca1e1d653"
   },
   "source": [
    "Every column that is either an int or a float can be 'described'. Taking the mean value of the 'Survived' column, we can see that <b>38%</b> of passengers (within the train set) survived when the Titanic sank.\n",
    "\n",
    "To understand a little more around how much data is actually missing, the final step before some more visual EDA is conducted will be to inspect per feature the quantity of missing values:"
   ]
  },
  {
   "cell_type": "code",
   "execution_count": 7,
   "metadata": {
    "_uuid": "c087670c7582302f43c8fcef4f5690af8fea891d"
   },
   "outputs": [
    {
     "name": "stdout",
     "output_type": "stream",
     "text": [
      "Age             263\n",
      "Cabin          1014\n",
      "Embarked          2\n",
      "Fare              1\n",
      "Name              0\n",
      "Parch             0\n",
      "PassengerId       0\n",
      "Pclass            0\n",
      "Sex               0\n",
      "SibSp             0\n",
      "Survived        418\n",
      "Ticket            0\n",
      "dtype: int64\n"
     ]
    }
   ],
   "source": [
    "# Provide NaN count for each feature in the dataset\n",
    "print(data.isnull().sum())"
   ]
  },
  {
   "cell_type": "markdown",
   "metadata": {
    "_uuid": "b291ac215b649a7558accdc79935cfbd65c64cf3"
   },
   "source": [
    "So Age and Cabin are the main culprits - we'll come back to these a little later on."
   ]
  },
  {
   "cell_type": "markdown",
   "metadata": {
    "_uuid": "9825454105eff0aebb0ff33b46c75be1617b60b1"
   },
   "source": [
    "## 4. Visual Data Exploration\n",
    "Before we can know how much (or little) feature engineering is needed, we need to have a good sense of what we're working with. The simple explorations discussed above are useful in terms of getting a holistic view of the overall dataset. To understand more about specific features, it is considered best practice to visualise it first. Step 4 walks through some simple visualisations, beginning with a correlation matrix"
   ]
  },
  {
   "cell_type": "code",
   "execution_count": 8,
   "metadata": {
    "_uuid": "fb0725cba0c6b651abce32fd58d4f91025d1192f"
   },
   "outputs": [
    {
     "data": {
      "image/png": "[encoded data removed]",
      "text/plain": [
       "<Figure size 1008x576 with 2 Axes>"
      ]
     },
     "metadata": {
      "needs_background": "light"
     },
     "output_type": "display_data"
    }
   ],
   "source": [
    "# Initiate correlation matrix\n",
    "corr = train.corr()\n",
    "# Set-up mask\n",
    "mask = np.zeros_like(corr, dtype=np.bool)\n",
    "mask[np.triu_indices_from(mask)] = True\n",
    "# Set-up figure\n",
    "plt.figure(figsize=(14, 8))\n",
    "# Title\n",
    "plt.title('Overall Correlation of Titanic Features', fontsize=18)\n",
    "# Correlation matrix\n",
    "sns.heatmap(corr, mask=mask, annot=False,cmap='RdYlGn', linewidths=0.2, annot_kws={'size':20})\n",
    "plt.show()"
   ]
  },
  {
   "cell_type": "markdown",
   "metadata": {
    "_uuid": "3be14fc8f9a232925ed0003b64f78086d7c3bda9"
   },
   "source": [
    "Perhaps not the most insightful view at this stage given that some features are pending engineering, however a visible correlation does exist between Survived and Pclass and Fare. Age, SibSp & Parch would also seem like logical predictors and it would be expected that after these variables have been preprocessed their correlation to Survived will increase.\n",
    "\n",
    "Let's get an initial sense of these features then, beginning with the target: Survived."
   ]
  },
  {
   "cell_type": "markdown",
   "metadata": {
    "_uuid": "e4fc09aa5113c2118470bb796c65b2108f7817d4"
   },
   "source": [
    "#### Survived"
   ]
  },
  {
   "cell_type": "code",
   "execution_count": 9,
   "metadata": {
    "_uuid": "53673f15c81a687a1b7146a663ef92f51e603f96"
   },
   "outputs": [
    {
     "name": "stdout",
     "output_type": "stream",
     "text": [
      "0    549\n",
      "1    342\n",
      "Name: Survived, dtype: int64\n"
     ]
    },
    {
     "data": {
      "image/png": "[encoded data removed]",
      "text/plain": [
       "<Figure size 720x360 with 1 Axes>"
      ]
     },
     "metadata": {
      "needs_background": "light"
     },
     "output_type": "display_data"
    }
   ],
   "source": [
    "# Plot for survived\n",
    "fig = plt.figure(figsize = (10,5))\n",
    "sns.countplot(x='Survived', data = train)\n",
    "print(train['Survived'].value_counts())"
   ]
  },
  {
   "cell_type": "markdown",
   "metadata": {
    "_uuid": "9e53a5312db30807234d3d1f53b951c0cda00c4a"
   },
   "source": [
    "A quick inspection into the survived feature reveals that as before seen, 38% of passengers within the training set survived when the Titanic sank. This equates to 342 passengers out of 891 in total."
   ]
  },
  {
   "cell_type": "markdown",
   "metadata": {
    "_uuid": "c55e83acdb09b7a15d900ceb1aae1c73b7be0646"
   },
   "source": [
    "#### Pclass"
   ]
  },
  {
   "cell_type": "code",
   "execution_count": 10,
   "metadata": {
    "_uuid": "1d04a7c68541e73f6ddce1dce6f18fee8da09f89"
   },
   "outputs": [
    {
     "data": {
      "text/plain": [
       "Text(0.5, 1.0, 'Percentage Survived by Ticket Class')"
      ]
     },
     "execution_count": 10,
     "metadata": {},
     "output_type": "execute_result"
    },
    {
     "data": {
      "image/png": "[encoded data removed]",
      "text/plain": [
       "<Figure size 720x720 with 2 Axes>"
      ]
     },
     "metadata": {
      "needs_background": "light"
     },
     "output_type": "display_data"
    }
   ],
   "source": [
    "# Bar chart of each Pclass type\n",
    "fig = plt.figure(figsize = (10,10))\n",
    "ax1 = plt.subplot(2,1,1)\n",
    "ax1 = sns.countplot(x = 'Pclass', hue = 'Survived', data = train)\n",
    "ax1.set_title('Ticket Class Survival Rate')\n",
    "ax1.set_xticklabels(['1 Upper','2 Middle','3 Lower'])\n",
    "ax1.set_ylim(0,400)\n",
    "ax1.set_xlabel('Ticket Class')\n",
    "ax1.set_ylabel('Count')\n",
    "ax1.legend(['No','Yes'])\n",
    "\n",
    "# Pointplot Pclass type\n",
    "ax2 = plt.subplot(2,1,2)\n",
    "sns.pointplot(x='Pclass', y='Survived', data=train)\n",
    "ax2.set_xlabel('Ticket Class')\n",
    "ax2.set_ylabel('Percent Survived')\n",
    "ax2.set_title('Percentage Survived by Ticket Class')"
   ]
  },
  {
   "cell_type": "markdown",
   "metadata": {
    "_uuid": "d39d9ae3b9fc8264260df3859590be255be39a9b"
   },
   "source": [
    "Confirmation of what was seen in the correlation matrix that a trend is visible between ticket class and survival chance. The higher class ticket, the more likely one is to have survived. This will become a very handy predictor in the machine learning algorithm."
   ]
  },
  {
   "cell_type": "markdown",
   "metadata": {
    "_uuid": "17382dc9cbd4908cf041258a1f0a0ec1a0831a76"
   },
   "source": [
    "#### Age"
   ]
  },
  {
   "cell_type": "code",
   "execution_count": 11,
   "metadata": {
    "_uuid": "8a38b402d870bece31194885cb01451bd8aa978a"
   },
   "outputs": [
    {
     "data": {
      "image/png": "[encoded data removed]",
      "text/plain": [
       "<Figure size 720x288 with 2 Axes>"
      ]
     },
     "metadata": {
      "needs_background": "light"
     },
     "output_type": "display_data"
    }
   ],
   "source": [
    "# Bar chart of age mapped against sex. For now, missing values have been dropped and will be dealt with later\n",
    "survived = 'survived'\n",
    "not_survived = 'not survived'\n",
    "fig, axes = plt.subplots(nrows=1, ncols=2,figsize=(10, 4))\n",
    "women = train[train['Sex']=='female']\n",
    "men = train[train['Sex']=='male']\n",
    "ax = sns.distplot(women[women['Survived']==1].Age.dropna(), bins=20, label = survived, ax = axes[0], kde =False)\n",
    "ax = sns.distplot(women[women['Survived']==0].Age.dropna(), bins=20, label = not_survived, ax = axes[0], kde =False)\n",
    "ax.legend()\n",
    "ax.set_title('Female')\n",
    "ax = sns.distplot(men[men['Survived']==1].Age.dropna(), bins=20, label = survived, ax = axes[1], kde = False)\n",
    "ax = sns.distplot(men[men['Survived']==0].Age.dropna(), bins=20, label = not_survived, ax = axes[1], kde = False)\n",
    "ax.legend()\n",
    "_ = ax.set_title('Male')"
   ]
  },
  {
   "cell_type": "markdown",
   "metadata": {
    "_uuid": "d9a9c9c31bb81e8789deff03f5712f4c54d1dd17"
   },
   "source": [
    "More can be understood about age when plotted alongside sex. These graphs reveal that overall women were much more likely to survive than men, and this is largely regardless of age. For both sexes, it appears that chances of survival are more likely at a younger age, which is what might have been expected. From the age of 20, it was consistently more likely that men would not have survived, up until their age approached 80. For women, apart from a potentially anomalous finding around the 8-9 bracket, they were always more likely to survive."
   ]
  },
  {
   "cell_type": "markdown",
   "metadata": {
    "_uuid": "d6e43ce1a0788199372c17448b289114f200c84e"
   },
   "source": [
    "#### SibSp & ParCh"
   ]
  },
  {
   "cell_type": "code",
   "execution_count": 12,
   "metadata": {
    "_uuid": "53f9beb54fa49a5c618022ae99691e0581fe0da9"
   },
   "outputs": [
    {
     "data": {
      "text/plain": [
       "<matplotlib.legend.Legend at 0x212e5b5110>"
      ]
     },
     "execution_count": 12,
     "metadata": {},
     "output_type": "execute_result"
    },
    {
     "data": {
      "image/png": "[encoded data removed]",
      "text/plain": [
       "<Figure size 720x864 with 2 Axes>"
      ]
     },
     "metadata": {
      "needs_background": "light"
     },
     "output_type": "display_data"
    }
   ],
   "source": [
    "# Plotting survival rate vs Siblings or Spouse on board\n",
    "fig = plt.figure(figsize = (10,12))\n",
    "ax1 = plt.subplot(2,1,1)\n",
    "ax1 = sns.countplot(x = 'SibSp', hue = 'Survived', data = train)\n",
    "ax1.set_title('Survival Rate with Total of Siblings and Spouse on Board')\n",
    "ax1.set_ylim(0,500)\n",
    "ax1.set_xlabel('# of Sibling and Spouse')\n",
    "ax1.set_ylabel('Count')\n",
    "ax1.legend(['No','Yes'],loc = 1)\n",
    "\n",
    "# Plotting survival rate vs Parents or Children on board\n",
    "ax2 = plt.subplot(2,1,2)\n",
    "ax2 = sns.countplot(x = 'Parch', hue = 'Survived', data = train)\n",
    "ax2.set_title('Survival Rate with Total Parents and Children on Board')\n",
    "ax2.set_ylim(0,500)\n",
    "ax2.set_xlabel('# of Parents and Children')\n",
    "ax2.set_ylabel('Count')\n",
    "ax2.legend(['No','Yes'],loc = 1)"
   ]
  },
  {
   "cell_type": "markdown",
   "metadata": {
    "_uuid": "17396fcc29091775d90ed5eb38e8964bb057e031"
   },
   "source": [
    "Not surprisingly, the structure of these two graphs appear similar, with a similar density of passengers featured within each count, with also a similar ratio of survived vs not survived. This adds further rationale for these two features to be combined, which will be performed at the Data Preprocessing stage."
   ]
  },
  {
   "cell_type": "markdown",
   "metadata": {
    "_uuid": "9ae3c98dad9729aa163dd4b46700a9c9943a8b18"
   },
   "source": [
    "#### Fare"
   ]
  },
  {
   "cell_type": "code",
   "execution_count": 13,
   "metadata": {
    "_uuid": "fdfd7f4bf6646af3671f20abe654407e062cc363"
   },
   "outputs": [
    {
     "data": {
      "text/plain": [
       "<matplotlib.axes._subplots.AxesSubplot at 0x212e531290>"
      ]
     },
     "execution_count": 13,
     "metadata": {},
     "output_type": "execute_result"
    },
    {
     "data": {
      "image/png": "[encoded data removed]",
      "text/plain": [
       "<Figure size 720x360 with 1 Axes>"
      ]
     },
     "metadata": {
      "needs_background": "light"
     },
     "output_type": "display_data"
    }
   ],
   "source": [
    "# Graph to display fare paid per the three ticket types\n",
    "fig = plt.figure(figsize = (10,5))\n",
    "sns.swarmplot(x=\"Pclass\", y=\"Fare\", data=train, hue='Survived')"
   ]
  },
  {
   "cell_type": "markdown",
   "metadata": {
    "_uuid": "fecb1c2d4338dca93a08270b9f31a5da49c7bfe4"
   },
   "source": [
    "Fare has been displayed per ticket type, revealing that those within Pclass 3 paid a similar fare to those in Pclass 2, but their chance of survival appears to be a lot lower. Pclass contains the highest fares, along with the highest rate of survivial, denoted by the higher ratio of orange points."
   ]
  },
  {
   "cell_type": "markdown",
   "metadata": {
    "_uuid": "419481bda2b6ea864d895ab81b4c07838e3060de"
   },
   "source": [
    "## 5. Feature engineering\n",
    "With a clearer understanding about the current data shape, we can now start engineering features so they're ready for modelling. Some steps will be things we need to do, e.g. filling in blanks. Other steps are more choice in terms of making features more useful, thus allowing for stronger model performance. I'll begin with one such feature."
   ]
  },
  {
   "cell_type": "markdown",
   "metadata": {
    "_uuid": "c8f57053f713b553a577c871660b840cc96775a6"
   },
   "source": [
    "### Family survival\n",
    "I must reference this [kernel](http://www.kaggle.com/shunjiangxu/blood-is-thicker-than-water-friendship-forever), which is credited with introducing this feature:\n",
    "\n",
    "The aim of this feature is to group together people (usually families) with similar ticket information, with the logic that groups that are together have similar survival chances. I encourage you to follow the link to learn more about this feature, as the code is quite complex. In my opinion it seemed an interesting and logical feature to create, so i'm adding it in my dataset."
   ]
  },
  {
   "cell_type": "markdown",
   "metadata": {
    "_uuid": "80ae21c8241a26c3aa2eb44ef02f541902c14595"
   },
   "source": [
    "#### Family information"
   ]
  },
  {
   "cell_type": "code",
   "execution_count": 14,
   "metadata": {
    "_uuid": "f5a9d3416a984838cb4d29c19338efb1787fc8a3"
   },
   "outputs": [
    {
     "name": "stdout",
     "output_type": "stream",
     "text": [
      "Number of passengers with family survival information: 420\n"
     ]
    }
   ],
   "source": [
    "# Extract last name\n",
    "data['Last_Name'] = data['Name'].apply(lambda x: str.split(x, \",\")[0])\n",
    "\n",
    "# Fill in missing Fare value by overall Fare mean\n",
    "data['Fare'].fillna(data['Fare'].mean(), inplace=True)\n",
    "\n",
    "# Setting coin flip (e.g. random chance of surviving)\n",
    "default_survival_chance = 0.5\n",
    "data['Family_Survival'] = default_survival_chance\n",
    "\n",
    "# Grouping data by last name and fare - looking for families\n",
    "for grp, grp_df in data[['Survived','Name', 'Last_Name', 'Fare', 'Ticket', 'PassengerId',\n",
    "                           'SibSp', 'Parch', 'Age', 'Cabin']].groupby(['Last_Name', 'Fare']):\n",
    "    \n",
    "    # If not equal to 1, a family is found \n",
    "    # Then work out survival chance depending on whether or not that family member survived\n",
    "    if (len(grp_df) != 1):\n",
    "        for ind, row in grp_df.iterrows():\n",
    "            smax = grp_df.drop(ind)['Survived'].max()\n",
    "            smin = grp_df.drop(ind)['Survived'].min()\n",
    "            passID = row['PassengerId']\n",
    "            if (smax == 1.0):\n",
    "                data.loc[data['PassengerId'] == passID, 'Family_Survival'] = 1\n",
    "            elif (smin == 0.0):\n",
    "                data.loc[data['PassengerId'] == passID, 'Family_Survival'] = 0\n",
    "\n",
    "# Print the headline\n",
    "print(\"Number of passengers with family survival information:\", \n",
    "      data.loc[data['Family_Survival']!=0.5].shape[0])"
   ]
  },
  {
   "cell_type": "markdown",
   "metadata": {
    "_uuid": "808fcacf8fd84f453a4f3003c398d254fcfcdde5"
   },
   "source": [
    "#### Group information"
   ]
  },
  {
   "cell_type": "code",
   "execution_count": 15,
   "metadata": {
    "_uuid": "cabd08591f6afe495ddcf4f13c133c74aef5970b"
   },
   "outputs": [
    {
     "name": "stdout",
     "output_type": "stream",
     "text": [
      "Number of passenger with family/group survival information: 546\n"
     ]
    }
   ],
   "source": [
    "# If not equal to 1, a group member is found\n",
    "# Then work out survival chance depending on whether or not that group member survived\n",
    "for _, grp_df in data.groupby('Ticket'):\n",
    "    if (len(grp_df) != 1):\n",
    "        for ind, row in grp_df.iterrows():\n",
    "            if (row['Family_Survival'] == 0) | (row['Family_Survival']== 0.5):\n",
    "                smax = grp_df.drop(ind)['Survived'].max()\n",
    "                smin = grp_df.drop(ind)['Survived'].min()\n",
    "                passID = row['PassengerId']\n",
    "                if (smax == 1.0):\n",
    "                    data.loc[data['PassengerId'] == passID, 'Family_Survival'] = 1\n",
    "                elif (smin==0.0):\n",
    "                    data.loc[data['PassengerId'] == passID, 'Family_Survival'] = 0\n",
    "\n",
    "# Print the headline\n",
    "print(\"Number of passenger with family/group survival information: \" \n",
    "      +str(data[data['Family_Survival']!=0.5].shape[0]))"
   ]
  },
  {
   "cell_type": "markdown",
   "metadata": {
    "_uuid": "9524f0cce7f7c9f9e325683430ff2d2dff9a7921"
   },
   "source": [
    "For this feature to work, the train/test index had to be kept as is. For the remaining feature engineering steps this isn't essential so I will reset the index so we now have one continual index (1-1309), rather than 1-end of train set followed by 1-end of test set."
   ]
  },
  {
   "cell_type": "code",
   "execution_count": 16,
   "metadata": {
    "_uuid": "be30971755199a03ec2a82a303adfe3f0cb70397"
   },
   "outputs": [
    {
     "data": {
      "text/html": [
       "<div>\n",
       "<style scoped>\n",
       "    .dataframe tbody tr th:only-of-type {\n",
       "        vertical-align: middle;\n",
       "    }\n",
       "\n",
       "    .dataframe tbody tr th {\n",
       "        vertical-align: top;\n",
       "    }\n",
       "\n",
       "    .dataframe thead th {\n",
       "        text-align: right;\n",
       "    }\n",
       "</style>\n",
       "<table border=\"1\" class=\"dataframe\">\n",
       "  <thead>\n",
       "    <tr style=\"text-align: right;\">\n",
       "      <th></th>\n",
       "      <th>Age</th>\n",
       "      <th>Cabin</th>\n",
       "      <th>Embarked</th>\n",
       "      <th>Fare</th>\n",
       "      <th>Name</th>\n",
       "      <th>Parch</th>\n",
       "      <th>PassengerId</th>\n",
       "      <th>Pclass</th>\n",
       "      <th>Sex</th>\n",
       "      <th>SibSp</th>\n",
       "      <th>Ticket</th>\n",
       "      <th>Last_Name</th>\n",
       "      <th>Family_Survival</th>\n",
       "    </tr>\n",
       "  </thead>\n",
       "  <tbody>\n",
       "    <tr>\n",
       "      <td>1304</td>\n",
       "      <td>NaN</td>\n",
       "      <td>NaN</td>\n",
       "      <td>S</td>\n",
       "      <td>8.0500</td>\n",
       "      <td>Spector, Mr. Woolf</td>\n",
       "      <td>0</td>\n",
       "      <td>1305</td>\n",
       "      <td>3</td>\n",
       "      <td>male</td>\n",
       "      <td>0</td>\n",
       "      <td>A.5. 3236</td>\n",
       "      <td>Spector</td>\n",
       "      <td>0.5</td>\n",
       "    </tr>\n",
       "    <tr>\n",
       "      <td>1305</td>\n",
       "      <td>39.0</td>\n",
       "      <td>C105</td>\n",
       "      <td>C</td>\n",
       "      <td>108.9000</td>\n",
       "      <td>Oliva y Ocana, Dona. Fermina</td>\n",
       "      <td>0</td>\n",
       "      <td>1306</td>\n",
       "      <td>1</td>\n",
       "      <td>female</td>\n",
       "      <td>0</td>\n",
       "      <td>PC 17758</td>\n",
       "      <td>Oliva y Ocana</td>\n",
       "      <td>1.0</td>\n",
       "    </tr>\n",
       "    <tr>\n",
       "      <td>1306</td>\n",
       "      <td>38.5</td>\n",
       "      <td>NaN</td>\n",
       "      <td>S</td>\n",
       "      <td>7.2500</td>\n",
       "      <td>Saether, Mr. Simon Sivertsen</td>\n",
       "      <td>0</td>\n",
       "      <td>1307</td>\n",
       "      <td>3</td>\n",
       "      <td>male</td>\n",
       "      <td>0</td>\n",
       "      <td>SOTON/O.Q. 3101262</td>\n",
       "      <td>Saether</td>\n",
       "      <td>0.5</td>\n",
       "    </tr>\n",
       "    <tr>\n",
       "      <td>1307</td>\n",
       "      <td>NaN</td>\n",
       "      <td>NaN</td>\n",
       "      <td>S</td>\n",
       "      <td>8.0500</td>\n",
       "      <td>Ware, Mr. Frederick</td>\n",
       "      <td>0</td>\n",
       "      <td>1308</td>\n",
       "      <td>3</td>\n",
       "      <td>male</td>\n",
       "      <td>0</td>\n",
       "      <td>359309</td>\n",
       "      <td>Ware</td>\n",
       "      <td>0.5</td>\n",
       "    </tr>\n",
       "    <tr>\n",
       "      <td>1308</td>\n",
       "      <td>NaN</td>\n",
       "      <td>NaN</td>\n",
       "      <td>C</td>\n",
       "      <td>22.3583</td>\n",
       "      <td>Peter, Master. Michael J</td>\n",
       "      <td>1</td>\n",
       "      <td>1309</td>\n",
       "      <td>3</td>\n",
       "      <td>male</td>\n",
       "      <td>1</td>\n",
       "      <td>2668</td>\n",
       "      <td>Peter</td>\n",
       "      <td>1.0</td>\n",
       "    </tr>\n",
       "  </tbody>\n",
       "</table>\n",
       "</div>"
      ],
      "text/plain": [
       "       Age Cabin Embarked      Fare                          Name  Parch  \\\n",
       "1304   NaN   NaN        S    8.0500            Spector, Mr. Woolf      0   \n",
       "1305  39.0  C105        C  108.9000  Oliva y Ocana, Dona. Fermina      0   \n",
       "1306  38.5   NaN        S    7.2500  Saether, Mr. Simon Sivertsen      0   \n",
       "1307   NaN   NaN        S    8.0500           Ware, Mr. Frederick      0   \n",
       "1308   NaN   NaN        C   22.3583      Peter, Master. Michael J      1   \n",
       "\n",
       "      PassengerId  Pclass     Sex  SibSp              Ticket      Last_Name  \\\n",
       "1304         1305       3    male      0           A.5. 3236        Spector   \n",
       "1305         1306       1  female      0            PC 17758  Oliva y Ocana   \n",
       "1306         1307       3    male      0  SOTON/O.Q. 3101262        Saether   \n",
       "1307         1308       3    male      0              359309           Ware   \n",
       "1308         1309       3    male      1                2668          Peter   \n",
       "\n",
       "      Family_Survival  \n",
       "1304              0.5  \n",
       "1305              1.0  \n",
       "1306              0.5  \n",
       "1307              0.5  \n",
       "1308              1.0  "
      ]
     },
     "execution_count": 16,
     "metadata": {},
     "output_type": "execute_result"
    }
   ],
   "source": [
    "# Reset index for remaining feature engineering steps\n",
    "data = data.reset_index(drop=True)\n",
    "data = data.drop('Survived', axis=1)\n",
    "data.tail()"
   ]
  },
  {
   "cell_type": "markdown",
   "metadata": {
    "_uuid": "1fea77c4936b791c34b2afed2151dd394858d6d1"
   },
   "source": [
    "Great, the index runs from 1-1309. Let's progress with engineering features."
   ]
  },
  {
   "cell_type": "markdown",
   "metadata": {
    "_uuid": "df88374059e4555a3acaa1e640e85cb455d4b2cb"
   },
   "source": [
    "### Fare\n",
    "The single missing fare value was taken care of previously, so let's take a look at fare overall and see whether we could or should take any further action."
   ]
  },
  {
   "cell_type": "code",
   "execution_count": 17,
   "metadata": {
    "_uuid": "aa86db39592254f5a89ec19c5d8849730dc2d6fc"
   },
   "outputs": [
    {
     "data": {
      "image/png": "[encoded data removed]",
      "text/plain": [
       "<Figure size 432x288 with 1 Axes>"
      ]
     },
     "metadata": {
      "needs_background": "light"
     },
     "output_type": "display_data"
    }
   ],
   "source": [
    "# Visualising fare data\n",
    "plt.hist(data['Fare'], bins=40)\n",
    "plt.xlabel('Fare')\n",
    "plt.ylabel('Count')\n",
    "plt.title('Distribution of fares')\n",
    "plt.show()"
   ]
  },
  {
   "cell_type": "markdown",
   "metadata": {
    "_uuid": "ab72d8af916c9a4f6ce10831de1a8cdb8e6bb3b5"
   },
   "source": [
    "Well, that's a fare from ideal view! There is quite a severe left-side skew which probably won't pair up all that well with Machine Learning algorithms. I think there's two possible approaches here.\n",
    "\n",
    "1. Turn Fare into categorical data, by breaking it down into bins\n",
    "2. Transform the data so it fits in with a normal distribution (e.g. log transformation could work here)\n",
    "\n",
    "I played around with both options, in the end deciding on using bins was the most effective means of proceeding. I also achieved a better final score using the bin approach. To create my bins, i'm going to use the clever Pandas qcut tool, which creates equal size bins based on the quantity chosen (in this case, 4)."
   ]
  },
  {
   "cell_type": "code",
   "execution_count": 18,
   "metadata": {
    "_uuid": "59b6c664bcd0f8795192aade18b089294c0bc3c4"
   },
   "outputs": [],
   "source": [
    "# Turning fare into 4 bins due to heavy skew in data\n",
    "data['Fare'] = pd.qcut(data['Fare'], 4)\n",
    "\n",
    "# I will now use Label Encoder to convert the bin ranges into numbers\n",
    "lbl = LabelEncoder()\n",
    "data['Fare'] = lbl.fit_transform(data['Fare'])"
   ]
  },
  {
   "cell_type": "code",
   "execution_count": 19,
   "metadata": {
    "_uuid": "78d6050853dc173c09e793cb3b9e35316e0ad06f"
   },
   "outputs": [
    {
     "data": {
      "text/plain": [
       "Text(0.5, 1.0, 'Fare Bins')"
      ]
     },
     "execution_count": 19,
     "metadata": {},
     "output_type": "execute_result"
    },
    {
     "data": {
      "image/png": "[encoded data removed]",
      "text/plain": [
       "<Figure size 432x288 with 1 Axes>"
      ]
     },
     "metadata": {
      "needs_background": "light"
     },
     "output_type": "display_data"
    }
   ],
   "source": [
    "# Visualise new look fare variable\n",
    "sns.countplot(data['Fare'])\n",
    "plt.xlabel('Fare Bin')\n",
    "plt.ylabel('Count')\n",
    "plt.title('Fare Bins')"
   ]
  },
  {
   "cell_type": "markdown",
   "metadata": {
    "_uuid": "720328bd821ded2fb02b162e3a010f91a52b67f4"
   },
   "source": [
    "### Name"
   ]
  },
  {
   "cell_type": "code",
   "execution_count": 20,
   "metadata": {
    "_uuid": "bc70f5143de0bbd830547cb4a970013802ee99f4"
   },
   "outputs": [
    {
     "data": {
      "text/plain": [
       "0                              Braund, Mr. Owen Harris\n",
       "1    Cumings, Mrs. John Bradley (Florence Briggs Th...\n",
       "2                               Heikkinen, Miss. Laina\n",
       "3         Futrelle, Mrs. Jacques Heath (Lily May Peel)\n",
       "4                             Allen, Mr. William Henry\n",
       "Name: Name, dtype: object"
      ]
     },
     "execution_count": 20,
     "metadata": {},
     "output_type": "execute_result"
    }
   ],
   "source": [
    "# Inspecting the first five rows of Name\n",
    "train['Name'].head()"
   ]
  },
  {
   "cell_type": "markdown",
   "metadata": {
    "_uuid": "07eaf694ad8456ece08dc0316f595f5818dbf15c"
   },
   "source": [
    "The full names as they are will not be helpful to us, although, there's probably something useful within title e.g. categorising males and females, boys and girls. Therefore, i'm going to extract this data and create a new feature for Title, before binning Name."
   ]
  },
  {
   "cell_type": "code",
   "execution_count": 21,
   "metadata": {
    "_uuid": "8ce4edc113e88aff872abe4720118121d252bb7b"
   },
   "outputs": [],
   "source": [
    "# New function to return name title only\n",
    "def get_title(name):\n",
    "    if '.' in name:\n",
    "        return name.split(',')[1].split('.')[0].strip()\n",
    "    else:\n",
    "        return 'Unknown'"
   ]
  },
  {
   "cell_type": "code",
   "execution_count": 22,
   "metadata": {
    "_uuid": "0d647929d2734a21d40743be222e2dc7f45441f4"
   },
   "outputs": [],
   "source": [
    "# Creating two lists of titles, one for each dataset\n",
    "titles_data = sorted(set([x for x in data['Name'].map(lambda x: get_title(x))]))"
   ]
  },
  {
   "cell_type": "markdown",
   "metadata": {
    "_uuid": "2b9045730bcaeb48977a1cbad810c855e2a92564"
   },
   "source": [
    "To understand better what we are now working with, the list size and values will be printed below."
   ]
  },
  {
   "cell_type": "code",
   "execution_count": 23,
   "metadata": {
    "_uuid": "4aa7a96cd22e9835284838d92a3700df290952c1"
   },
   "outputs": [
    {
     "name": "stdout",
     "output_type": "stream",
     "text": [
      "18 : ['Capt', 'Col', 'Don', 'Dona', 'Dr', 'Jonkheer', 'Lady', 'Major', 'Master', 'Miss', 'Mlle', 'Mme', 'Mr', 'Mrs', 'Ms', 'Rev', 'Sir', 'the Countess']\n"
     ]
    }
   ],
   "source": [
    "# Printing list length and items in each list\n",
    "print(len(titles_data), ':', titles_data)"
   ]
  },
  {
   "cell_type": "markdown",
   "metadata": {
    "_uuid": "06a4c7a6702c9b7f18c908b862224c94fa503207"
   },
   "source": [
    "18 unique title values is a lot, and I anticipate that for many only a few observations exist, which isn't helpful. I'm going to keep this simple and band titles in one of four categories: Mr, Mrs, Master & Miss. To help me complete this I will define my own handy function - see below:"
   ]
  },
  {
   "cell_type": "code",
   "execution_count": 24,
   "metadata": {
    "_uuid": "54d9d2fd1835a56340108a0c525257030e18c139"
   },
   "outputs": [],
   "source": [
    "# New function to classify each title into 1 of 4 overarching titles\n",
    "def set_title(x):\n",
    "    title = x['Title']\n",
    "    if title in ['Capt', 'Col', 'Don', 'Jonkheer', 'Major', 'Rev', 'Sir']:\n",
    "        return 'Mr'\n",
    "    elif title in ['the Countess', 'Mme', 'Lady','Dona']:\n",
    "        return 'Mrs'\n",
    "    elif title in ['Mlle', 'Ms']:\n",
    "        return 'Miss'\n",
    "    elif title =='Dr':\n",
    "        if x['Sex']=='male':\n",
    "            return 'Mr'\n",
    "        else:\n",
    "            return 'Mrs'\n",
    "    else:\n",
    "        return title"
   ]
  },
  {
   "cell_type": "code",
   "execution_count": 25,
   "metadata": {
    "_uuid": "d0dff20de99313125c4b697ed67e6277b00b4ba1"
   },
   "outputs": [],
   "source": [
    "# Applying the get_title function to create the new 'Title' feature\n",
    "data['Title'] = data['Name'].map(lambda x: get_title(x))\n",
    "data['Title'] = data.apply(set_title, axis=1)"
   ]
  },
  {
   "cell_type": "code",
   "execution_count": 26,
   "metadata": {
    "_uuid": "ed165140922d3ac560caaa63b8d4f124fb3b39dd"
   },
   "outputs": [
    {
     "name": "stdout",
     "output_type": "stream",
     "text": [
      "Mr        782\n",
      "Miss      264\n",
      "Mrs       202\n",
      "Master     61\n",
      "Name: Title, dtype: int64\n"
     ]
    }
   ],
   "source": [
    "# Printing values of the title column (checking function worked!)\n",
    "print(data['Title'].value_counts())"
   ]
  },
  {
   "cell_type": "markdown",
   "metadata": {
    "_uuid": "14427bb122abf7d65a354599a54b27088e50964f"
   },
   "source": [
    "Group sizing looks good enough, i'm happy to continue with this!"
   ]
  },
  {
   "cell_type": "markdown",
   "metadata": {
    "_uuid": "ad25342ed2b5d890de13db326cb08979812fad61"
   },
   "source": [
    "### Age\n",
    "Age has some missing values, as was seen earlier when initially inspecting the data. Let's recap on the current state-of-play:"
   ]
  },
  {
   "cell_type": "code",
   "execution_count": 27,
   "metadata": {
    "_uuid": "d1d7831b356e60a08a131a8003e15b7b292f2502"
   },
   "outputs": [
    {
     "name": "stdout",
     "output_type": "stream",
     "text": [
      "Total missing age data:  263\n"
     ]
    }
   ],
   "source": [
    "# Returning NaN within Age across Train & Test set\n",
    "print('Total missing age data: ', pd.isnull(data['Age']).sum())"
   ]
  },
  {
   "cell_type": "markdown",
   "metadata": {
    "_uuid": "0c7059b30a8f81b0db6557e19b9e159d4af3e677"
   },
   "source": [
    "There's a reason I chose to look at Age after Name, that's because I'm going to use the new Title feature to calculate the missing the Age values - a technique called 'imputation'. Imputing can either be completed by the Mean or Median. Let's use the below information to help decide on which might be most accurate."
   ]
  },
  {
   "cell_type": "code",
   "execution_count": 28,
   "metadata": {
    "_uuid": "cab71e1d01f24979163bf84869321772d8e678ba"
   },
   "outputs": [
    {
     "name": "stdout",
     "output_type": "stream",
     "text": [
      "count    1046.000000\n",
      "mean       29.881138\n",
      "std        14.413493\n",
      "min         0.170000\n",
      "25%        21.000000\n",
      "50%        28.000000\n",
      "75%        39.000000\n",
      "max        80.000000\n",
      "Name: Age, dtype: float64\n"
     ]
    }
   ],
   "source": [
    "# Check which statistic to use in imputation\n",
    "print(data['Age'].describe(exclude='NaN'))"
   ]
  },
  {
   "cell_type": "markdown",
   "metadata": {
    "_uuid": "ef870dae4a57c9515b7ca8b297227b0b7415c94e"
   },
   "source": [
    "The mean and percentile breakdown indicates multiple features converging around the 30 mark, which perhaps isn't surprising. Based on this it may be better to proceed with imputing with the median (middle) value. What i'm now going to do is group the dataset by the four different titles, and then impute the missing age values with the average age of each title, be that Mr, Mrs, Master or Miss. The below code completes this:"
   ]
  },
  {
   "cell_type": "code",
   "execution_count": 29,
   "metadata": {
    "_uuid": "3b6e71506b64db1a5b697ce2b84a2e18d331d776"
   },
   "outputs": [],
   "source": [
    "# Imputing Age within the train & test set with the Median, grouped by Pclass and title\n",
    "data['Age'] = data.groupby('Title')['Age'].apply(lambda x: x.fillna(x.median()))"
   ]
  },
  {
   "cell_type": "code",
   "execution_count": 30,
   "metadata": {
    "_uuid": "5e2d9f407fb64789eebc04f7cb5b278809d2fcc9"
   },
   "outputs": [
    {
     "data": {
      "image/png": "[encoded data removed]",
      "text/plain": [
       "<Figure size 432x288 with 1 Axes>"
      ]
     },
     "metadata": {
      "needs_background": "light"
     },
     "output_type": "display_data"
    }
   ],
   "source": [
    "# Visualise new look age variable\n",
    "plt.hist(data['Age'], bins=40)\n",
    "plt.xlabel('Age')\n",
    "plt.ylabel('Count')\n",
    "plt.title('Distribution of ages')\n",
    "plt.show()"
   ]
  },
  {
   "cell_type": "markdown",
   "metadata": {
    "_uuid": "adb910e5734374cf10c2e3079fe535a4980a9078"
   },
   "source": [
    "So now we have a completed view of Age, it makes sense to visualise it. The distribution isn't bad, but I'm not totally satisfied - a slight left skew can still be seen. I'm going to follow the approach used for the Fare feature by turning Age into bins."
   ]
  },
  {
   "cell_type": "code",
   "execution_count": 31,
   "metadata": {
    "_uuid": "a8da9613e6e865d86c822baa0d013a4dcafeccb0"
   },
   "outputs": [],
   "source": [
    "# Turning data into 4 bins due to heavy skew in data\n",
    "data['Age'] = pd.qcut(data['Age'], 4)\n",
    "\n",
    "# Transforming bins to numbers\n",
    "lbl = LabelEncoder()\n",
    "data['Age'] = lbl.fit_transform(data['Age'])"
   ]
  },
  {
   "cell_type": "code",
   "execution_count": 32,
   "metadata": {
    "_uuid": "8c7e27a095a3f3d3d3b0f8052c6674e7aae9e820"
   },
   "outputs": [
    {
     "data": {
      "text/plain": [
       "Text(0.5, 1.0, 'Age Bins')"
      ]
     },
     "execution_count": 32,
     "metadata": {},
     "output_type": "execute_result"
    },
    {
     "data": {
      "image/png": "[encoded data removed]",
      "text/plain": [
       "<Figure size 432x288 with 1 Axes>"
      ]
     },
     "metadata": {
      "needs_background": "light"
     },
     "output_type": "display_data"
    }
   ],
   "source": [
    "# Visualise new look fare variable\n",
    "plt.xticks(rotation='90')\n",
    "sns.countplot(data['Age'])\n",
    "plt.xlabel('Age Bin')\n",
    "plt.ylabel('Count')\n",
    "plt.title('Age Bins')"
   ]
  },
  {
   "cell_type": "markdown",
   "metadata": {
    "_uuid": "605b65a9d197be0965bf8fafbcc558afc82978bb"
   },
   "source": [
    "I will stick with these bins for now. Now that I'm finished using the Title feature, I will round up by transferring the titles over to numbers ready for Machine Learning."
   ]
  },
  {
   "cell_type": "code",
   "execution_count": 33,
   "metadata": {
    "_uuid": "99b64ebdfb291107595d67be53fc2be50af6c821"
   },
   "outputs": [],
   "source": [
    "data['Title'] = data['Title'].replace(['Mr', 'Miss', 'Mrs', 'Master'], [0, 1, 2, 3])"
   ]
  },
  {
   "cell_type": "markdown",
   "metadata": {
    "_uuid": "27512e684f9a42c8af52f98f033a8e24592db546"
   },
   "source": [
    "### Sex\n",
    "A simple step for Sex, just recoding to numbers for Machine Learning."
   ]
  },
  {
   "cell_type": "code",
   "execution_count": 34,
   "metadata": {
    "_uuid": "696be1d0d3a0b820116cf8758e6e40cb12a20ec8"
   },
   "outputs": [],
   "source": [
    "# Recoding sex to numeric values with use of a dictionary for machine learning model compatibility\n",
    "data['Sex'] = data['Sex'].replace(['male', 'female'], [0, 1])"
   ]
  },
  {
   "cell_type": "markdown",
   "metadata": {
    "_uuid": "6c73b1d104118879d56c40ff475e78ef1c04c2c4"
   },
   "source": [
    "### Embarked"
   ]
  },
  {
   "cell_type": "code",
   "execution_count": 35,
   "metadata": {
    "_uuid": "acd4d787df9f97af8b8da4b3874405996a5616e3"
   },
   "outputs": [
    {
     "data": {
      "text/plain": [
       "count     1307\n",
       "unique       3\n",
       "top          S\n",
       "freq       914\n",
       "Name: Embarked, dtype: object"
      ]
     },
     "execution_count": 35,
     "metadata": {},
     "output_type": "execute_result"
    }
   ],
   "source": [
    "data['Embarked'].describe()"
   ]
  },
  {
   "cell_type": "markdown",
   "metadata": {
    "_uuid": "5a6936312882d5f26d2468afcc7392c51eaa84b0"
   },
   "source": [
    "There are two missing values for Embarked - let's replace it with the most frequently occurring value. I'll then convert the letters to numeric values."
   ]
  },
  {
   "cell_type": "code",
   "execution_count": 36,
   "metadata": {
    "_uuid": "066cd5990f408de6e55f6521fedb384d2de935b2"
   },
   "outputs": [],
   "source": [
    "# Filling in missing embarked values with the mode (S)\n",
    "data['Embarked'] = data['Embarked'].fillna(data['Embarked'].mode()[0])\n",
    "\n",
    "# Converting to numeric values\n",
    "data['Embarked'] = data['Embarked'].replace(['S', 'C', 'Q'], [0, 1, 2])"
   ]
  },
  {
   "cell_type": "markdown",
   "metadata": {
    "_uuid": "9af3ca5eae97c8a03b3b66502f1be6d4d94e6393"
   },
   "source": [
    "### Cabin"
   ]
  },
  {
   "cell_type": "code",
   "execution_count": 37,
   "metadata": {
    "_uuid": "7c21dcddcbf518493da3fc084ef4e29851128a0e"
   },
   "outputs": [
    {
     "data": {
      "text/html": [
       "<div>\n",
       "<style scoped>\n",
       "    .dataframe tbody tr th:only-of-type {\n",
       "        vertical-align: middle;\n",
       "    }\n",
       "\n",
       "    .dataframe tbody tr th {\n",
       "        vertical-align: top;\n",
       "    }\n",
       "\n",
       "    .dataframe thead th {\n",
       "        text-align: right;\n",
       "    }\n",
       "</style>\n",
       "<table border=\"1\" class=\"dataframe\">\n",
       "  <thead>\n",
       "    <tr style=\"text-align: right;\">\n",
       "      <th></th>\n",
       "      <th>PassengerId</th>\n",
       "      <th>Survived</th>\n",
       "      <th>Pclass</th>\n",
       "      <th>Name</th>\n",
       "      <th>Sex</th>\n",
       "      <th>Age</th>\n",
       "      <th>SibSp</th>\n",
       "      <th>Parch</th>\n",
       "      <th>Ticket</th>\n",
       "      <th>Fare</th>\n",
       "      <th>Cabin</th>\n",
       "      <th>Embarked</th>\n",
       "    </tr>\n",
       "  </thead>\n",
       "  <tbody>\n",
       "    <tr>\n",
       "      <td>0</td>\n",
       "      <td>1</td>\n",
       "      <td>0</td>\n",
       "      <td>3</td>\n",
       "      <td>Braund, Mr. Owen Harris</td>\n",
       "      <td>male</td>\n",
       "      <td>22.0</td>\n",
       "      <td>1</td>\n",
       "      <td>0</td>\n",
       "      <td>A/5 21171</td>\n",
       "      <td>7.2500</td>\n",
       "      <td>NaN</td>\n",
       "      <td>S</td>\n",
       "    </tr>\n",
       "    <tr>\n",
       "      <td>1</td>\n",
       "      <td>2</td>\n",
       "      <td>1</td>\n",
       "      <td>1</td>\n",
       "      <td>Cumings, Mrs. John Bradley (Florence Briggs Th...</td>\n",
       "      <td>female</td>\n",
       "      <td>38.0</td>\n",
       "      <td>1</td>\n",
       "      <td>0</td>\n",
       "      <td>PC 17599</td>\n",
       "      <td>71.2833</td>\n",
       "      <td>C85</td>\n",
       "      <td>C</td>\n",
       "    </tr>\n",
       "    <tr>\n",
       "      <td>2</td>\n",
       "      <td>3</td>\n",
       "      <td>1</td>\n",
       "      <td>3</td>\n",
       "      <td>Heikkinen, Miss. Laina</td>\n",
       "      <td>female</td>\n",
       "      <td>26.0</td>\n",
       "      <td>0</td>\n",
       "      <td>0</td>\n",
       "      <td>STON/O2. 3101282</td>\n",
       "      <td>7.9250</td>\n",
       "      <td>NaN</td>\n",
       "      <td>S</td>\n",
       "    </tr>\n",
       "    <tr>\n",
       "      <td>3</td>\n",
       "      <td>4</td>\n",
       "      <td>1</td>\n",
       "      <td>1</td>\n",
       "      <td>Futrelle, Mrs. Jacques Heath (Lily May Peel)</td>\n",
       "      <td>female</td>\n",
       "      <td>35.0</td>\n",
       "      <td>1</td>\n",
       "      <td>0</td>\n",
       "      <td>113803</td>\n",
       "      <td>53.1000</td>\n",
       "      <td>C123</td>\n",
       "      <td>S</td>\n",
       "    </tr>\n",
       "    <tr>\n",
       "      <td>4</td>\n",
       "      <td>5</td>\n",
       "      <td>0</td>\n",
       "      <td>3</td>\n",
       "      <td>Allen, Mr. William Henry</td>\n",
       "      <td>male</td>\n",
       "      <td>35.0</td>\n",
       "      <td>0</td>\n",
       "      <td>0</td>\n",
       "      <td>373450</td>\n",
       "      <td>8.0500</td>\n",
       "      <td>NaN</td>\n",
       "      <td>S</td>\n",
       "    </tr>\n",
       "  </tbody>\n",
       "</table>\n",
       "</div>"
      ],
      "text/plain": [
       "   PassengerId  Survived  Pclass  \\\n",
       "0            1         0       3   \n",
       "1            2         1       1   \n",
       "2            3         1       3   \n",
       "3            4         1       1   \n",
       "4            5         0       3   \n",
       "\n",
       "                                                Name     Sex   Age  SibSp  \\\n",
       "0                            Braund, Mr. Owen Harris    male  22.0      1   \n",
       "1  Cumings, Mrs. John Bradley (Florence Briggs Th...  female  38.0      1   \n",
       "2                             Heikkinen, Miss. Laina  female  26.0      0   \n",
       "3       Futrelle, Mrs. Jacques Heath (Lily May Peel)  female  35.0      1   \n",
       "4                           Allen, Mr. William Henry    male  35.0      0   \n",
       "\n",
       "   Parch            Ticket     Fare Cabin Embarked  \n",
       "0      0         A/5 21171   7.2500   NaN        S  \n",
       "1      0          PC 17599  71.2833   C85        C  \n",
       "2      0  STON/O2. 3101282   7.9250   NaN        S  \n",
       "3      0            113803  53.1000  C123        S  \n",
       "4      0            373450   8.0500   NaN        S  "
      ]
     },
     "execution_count": 37,
     "metadata": {},
     "output_type": "execute_result"
    }
   ],
   "source": [
    "# Inspecting head of Cabin column\n",
    "train.head()"
   ]
  },
  {
   "cell_type": "markdown",
   "metadata": {
    "_uuid": "6e6f8206547bbda7dfba1619502a5d222a6cb407"
   },
   "source": [
    "Upon closer inspection into cabin, we can see that it follows a Letter/Number format. A bit of extra internet research reveals that the letter actually refers to the floor in the titanic where each passenger resided. This  information may be helpful in the prediction, e.g. did those in lower cabins have a smaller/larger chance of survival? Therefore we will begin by extracting the letter only from the Cabin column, and then labelling all NaN's with an 'Unknown' cabin reference."
   ]
  },
  {
   "cell_type": "code",
   "execution_count": 38,
   "metadata": {
    "_uuid": "66d3eecc9ed104810740aabab5846292c88280ac"
   },
   "outputs": [],
   "source": [
    "# Labelling all NaN values as 'Unknown'\n",
    "data['Cabin'].fillna('Unknown',inplace=True)"
   ]
  },
  {
   "cell_type": "code",
   "execution_count": 39,
   "metadata": {
    "_uuid": "710d6e0037b8e31a529df4d8cec4abfb462585f7"
   },
   "outputs": [],
   "source": [
    "# Extracting the first value in the each row of Cabin\n",
    "data['Cabin'] = data['Cabin'].map(lambda x: x[0])"
   ]
  },
  {
   "cell_type": "code",
   "execution_count": 40,
   "metadata": {
    "_uuid": "901683e7c60155dc4c62ded04fd2e0a1a282b805"
   },
   "outputs": [
    {
     "data": {
      "text/plain": [
       "U    1014\n",
       "C      94\n",
       "B      65\n",
       "D      46\n",
       "E      41\n",
       "A      22\n",
       "F      21\n",
       "G       5\n",
       "T       1\n",
       "Name: Cabin, dtype: int64"
      ]
     },
     "execution_count": 40,
     "metadata": {},
     "output_type": "execute_result"
    }
   ],
   "source": [
    "# Return the counts of each unique value in the Cabin column\n",
    "data['Cabin'].value_counts()"
   ]
  },
  {
   "cell_type": "markdown",
   "metadata": {
    "_uuid": "c72bcac034a2eb436efe6825bc0fdcaf2a479b1d"
   },
   "source": [
    "As previously seen, there is an overwhelming majority of unknown Cabins in the train dataset. Based on this, the best option here might be to create two groups: known and unknown. This will avoid overfitting on the sparse data by cabin level, and, with the help of a new function, is what will be computed next."
   ]
  },
  {
   "cell_type": "code",
   "execution_count": 41,
   "metadata": {
    "_uuid": "b8b80769532e34bfba09080cdab3deade8950cd9"
   },
   "outputs": [],
   "source": [
    "# New function to classify known cabins as 'Known', otherwise 'Unknown'\n",
    "def unknown_cabin(cabin):\n",
    "    if cabin != 'U':\n",
    "        return 1\n",
    "    else:\n",
    "        return 0\n",
    "    \n",
    "# Applying new function to Cabin feature\n",
    "data['Cabin'] = data['Cabin'].apply(lambda x:unknown_cabin(x))"
   ]
  },
  {
   "cell_type": "markdown",
   "metadata": {
    "_uuid": "dd67f72a568053e60d873971a63a00613e066165"
   },
   "source": [
    "### SibSp & Parch\n",
    "\n",
    "It would make sense that these two features were combined into one, so that's exactly what I'll do. Nice and simple!"
   ]
  },
  {
   "cell_type": "code",
   "execution_count": 42,
   "metadata": {
    "_uuid": "985ac70652bfc845b1cb700d433a0a5e307fae98"
   },
   "outputs": [],
   "source": [
    "# Creating two features of relatives and not alone\n",
    "data['Family Size'] = data['SibSp'] + data['Parch']"
   ]
  },
  {
   "cell_type": "markdown",
   "metadata": {
    "_uuid": "f0d26b286541ca3e036b89aec7dfaad480174679"
   },
   "source": [
    "### Final look"
   ]
  },
  {
   "cell_type": "code",
   "execution_count": 43,
   "metadata": {
    "_uuid": "39fc89bfe074c2813e9b4dea17bba72e0f712696"
   },
   "outputs": [
    {
     "data": {
      "text/html": [
       "<div>\n",
       "<style scoped>\n",
       "    .dataframe tbody tr th:only-of-type {\n",
       "        vertical-align: middle;\n",
       "    }\n",
       "\n",
       "    .dataframe tbody tr th {\n",
       "        vertical-align: top;\n",
       "    }\n",
       "\n",
       "    .dataframe thead th {\n",
       "        text-align: right;\n",
       "    }\n",
       "</style>\n",
       "<table border=\"1\" class=\"dataframe\">\n",
       "  <thead>\n",
       "    <tr style=\"text-align: right;\">\n",
       "      <th></th>\n",
       "      <th>Age</th>\n",
       "      <th>Cabin</th>\n",
       "      <th>Embarked</th>\n",
       "      <th>Fare</th>\n",
       "      <th>Name</th>\n",
       "      <th>Parch</th>\n",
       "      <th>PassengerId</th>\n",
       "      <th>Pclass</th>\n",
       "      <th>Sex</th>\n",
       "      <th>SibSp</th>\n",
       "      <th>Ticket</th>\n",
       "      <th>Last_Name</th>\n",
       "      <th>Family_Survival</th>\n",
       "      <th>Title</th>\n",
       "      <th>Family Size</th>\n",
       "    </tr>\n",
       "  </thead>\n",
       "  <tbody>\n",
       "    <tr>\n",
       "      <td>0</td>\n",
       "      <td>0</td>\n",
       "      <td>0</td>\n",
       "      <td>0</td>\n",
       "      <td>0</td>\n",
       "      <td>Braund, Mr. Owen Harris</td>\n",
       "      <td>0</td>\n",
       "      <td>1</td>\n",
       "      <td>3</td>\n",
       "      <td>0</td>\n",
       "      <td>1</td>\n",
       "      <td>A/5 21171</td>\n",
       "      <td>Braund</td>\n",
       "      <td>0.5</td>\n",
       "      <td>0</td>\n",
       "      <td>1</td>\n",
       "    </tr>\n",
       "    <tr>\n",
       "      <td>1</td>\n",
       "      <td>3</td>\n",
       "      <td>1</td>\n",
       "      <td>1</td>\n",
       "      <td>3</td>\n",
       "      <td>Cumings, Mrs. John Bradley (Florence Briggs Th...</td>\n",
       "      <td>0</td>\n",
       "      <td>2</td>\n",
       "      <td>1</td>\n",
       "      <td>1</td>\n",
       "      <td>1</td>\n",
       "      <td>PC 17599</td>\n",
       "      <td>Cumings</td>\n",
       "      <td>0.5</td>\n",
       "      <td>2</td>\n",
       "      <td>1</td>\n",
       "    </tr>\n",
       "    <tr>\n",
       "      <td>2</td>\n",
       "      <td>1</td>\n",
       "      <td>0</td>\n",
       "      <td>0</td>\n",
       "      <td>1</td>\n",
       "      <td>Heikkinen, Miss. Laina</td>\n",
       "      <td>0</td>\n",
       "      <td>3</td>\n",
       "      <td>3</td>\n",
       "      <td>1</td>\n",
       "      <td>0</td>\n",
       "      <td>STON/O2. 3101282</td>\n",
       "      <td>Heikkinen</td>\n",
       "      <td>0.5</td>\n",
       "      <td>1</td>\n",
       "      <td>0</td>\n",
       "    </tr>\n",
       "    <tr>\n",
       "      <td>3</td>\n",
       "      <td>2</td>\n",
       "      <td>1</td>\n",
       "      <td>0</td>\n",
       "      <td>3</td>\n",
       "      <td>Futrelle, Mrs. Jacques Heath (Lily May Peel)</td>\n",
       "      <td>0</td>\n",
       "      <td>4</td>\n",
       "      <td>1</td>\n",
       "      <td>1</td>\n",
       "      <td>1</td>\n",
       "      <td>113803</td>\n",
       "      <td>Futrelle</td>\n",
       "      <td>0.0</td>\n",
       "      <td>2</td>\n",
       "      <td>1</td>\n",
       "    </tr>\n",
       "    <tr>\n",
       "      <td>4</td>\n",
       "      <td>2</td>\n",
       "      <td>0</td>\n",
       "      <td>0</td>\n",
       "      <td>1</td>\n",
       "      <td>Allen, Mr. William Henry</td>\n",
       "      <td>0</td>\n",
       "      <td>5</td>\n",
       "      <td>3</td>\n",
       "      <td>0</td>\n",
       "      <td>0</td>\n",
       "      <td>373450</td>\n",
       "      <td>Allen</td>\n",
       "      <td>0.5</td>\n",
       "      <td>0</td>\n",
       "      <td>0</td>\n",
       "    </tr>\n",
       "  </tbody>\n",
       "</table>\n",
       "</div>"
      ],
      "text/plain": [
       "   Age  Cabin  Embarked  Fare  \\\n",
       "0    0      0         0     0   \n",
       "1    3      1         1     3   \n",
       "2    1      0         0     1   \n",
       "3    2      1         0     3   \n",
       "4    2      0         0     1   \n",
       "\n",
       "                                                Name  Parch  PassengerId  \\\n",
       "0                            Braund, Mr. Owen Harris      0            1   \n",
       "1  Cumings, Mrs. John Bradley (Florence Briggs Th...      0            2   \n",
       "2                             Heikkinen, Miss. Laina      0            3   \n",
       "3       Futrelle, Mrs. Jacques Heath (Lily May Peel)      0            4   \n",
       "4                           Allen, Mr. William Henry      0            5   \n",
       "\n",
       "   Pclass  Sex  SibSp            Ticket  Last_Name  Family_Survival  Title  \\\n",
       "0       3    0      1         A/5 21171     Braund              0.5      0   \n",
       "1       1    1      1          PC 17599    Cumings              0.5      2   \n",
       "2       3    1      0  STON/O2. 3101282  Heikkinen              0.5      1   \n",
       "3       1    1      1            113803   Futrelle              0.0      2   \n",
       "4       3    0      0            373450      Allen              0.5      0   \n",
       "\n",
       "   Family Size  \n",
       "0            1  \n",
       "1            1  \n",
       "2            0  \n",
       "3            1  \n",
       "4            0  "
      ]
     },
     "execution_count": 43,
     "metadata": {},
     "output_type": "execute_result"
    }
   ],
   "source": [
    "# Final look at the data\n",
    "data.head()"
   ]
  },
  {
   "cell_type": "markdown",
   "metadata": {
    "_uuid": "1b9627f39472867352ff7eeecec34eb7f6a37749"
   },
   "source": [
    "Everything that I want to carry forward to the machine learning stage looks ready. There are some features remaining that, as previously discussed, I don't wish to use. The very last step will be to therefore remove these features."
   ]
  },
  {
   "cell_type": "code",
   "execution_count": 44,
   "metadata": {
    "_uuid": "50ff9e414335f518f6454721895e82b4d51a9b48"
   },
   "outputs": [],
   "source": [
    "# Dropping what we know need for Machine Learning\n",
    "data = data.drop(['Name', 'Parch', 'SibSp', 'Ticket', 'Last_Name', 'PassengerId'], axis = 1)"
   ]
  },
  {
   "cell_type": "code",
   "execution_count": 45,
   "metadata": {},
   "outputs": [
    {
     "data": {
      "text/html": [
       "<div>\n",
       "<style scoped>\n",
       "    .dataframe tbody tr th:only-of-type {\n",
       "        vertical-align: middle;\n",
       "    }\n",
       "\n",
       "    .dataframe tbody tr th {\n",
       "        vertical-align: top;\n",
       "    }\n",
       "\n",
       "    .dataframe thead th {\n",
       "        text-align: right;\n",
       "    }\n",
       "</style>\n",
       "<table border=\"1\" class=\"dataframe\">\n",
       "  <thead>\n",
       "    <tr style=\"text-align: right;\">\n",
       "      <th></th>\n",
       "      <th>Age</th>\n",
       "      <th>Cabin</th>\n",
       "      <th>Embarked</th>\n",
       "      <th>Fare</th>\n",
       "      <th>Pclass</th>\n",
       "      <th>Sex</th>\n",
       "      <th>Family_Survival</th>\n",
       "      <th>Title</th>\n",
       "      <th>Family Size</th>\n",
       "    </tr>\n",
       "  </thead>\n",
       "  <tbody>\n",
       "    <tr>\n",
       "      <td>0</td>\n",
       "      <td>0</td>\n",
       "      <td>0</td>\n",
       "      <td>0</td>\n",
       "      <td>0</td>\n",
       "      <td>3</td>\n",
       "      <td>0</td>\n",
       "      <td>0.5</td>\n",
       "      <td>0</td>\n",
       "      <td>1</td>\n",
       "    </tr>\n",
       "    <tr>\n",
       "      <td>1</td>\n",
       "      <td>3</td>\n",
       "      <td>1</td>\n",
       "      <td>1</td>\n",
       "      <td>3</td>\n",
       "      <td>1</td>\n",
       "      <td>1</td>\n",
       "      <td>0.5</td>\n",
       "      <td>2</td>\n",
       "      <td>1</td>\n",
       "    </tr>\n",
       "    <tr>\n",
       "      <td>2</td>\n",
       "      <td>1</td>\n",
       "      <td>0</td>\n",
       "      <td>0</td>\n",
       "      <td>1</td>\n",
       "      <td>3</td>\n",
       "      <td>1</td>\n",
       "      <td>0.5</td>\n",
       "      <td>1</td>\n",
       "      <td>0</td>\n",
       "    </tr>\n",
       "    <tr>\n",
       "      <td>3</td>\n",
       "      <td>2</td>\n",
       "      <td>1</td>\n",
       "      <td>0</td>\n",
       "      <td>3</td>\n",
       "      <td>1</td>\n",
       "      <td>1</td>\n",
       "      <td>0.0</td>\n",
       "      <td>2</td>\n",
       "      <td>1</td>\n",
       "    </tr>\n",
       "    <tr>\n",
       "      <td>4</td>\n",
       "      <td>2</td>\n",
       "      <td>0</td>\n",
       "      <td>0</td>\n",
       "      <td>1</td>\n",
       "      <td>3</td>\n",
       "      <td>0</td>\n",
       "      <td>0.5</td>\n",
       "      <td>0</td>\n",
       "      <td>0</td>\n",
       "    </tr>\n",
       "  </tbody>\n",
       "</table>\n",
       "</div>"
      ],
      "text/plain": [
       "   Age  Cabin  Embarked  Fare  Pclass  Sex  Family_Survival  Title  \\\n",
       "0    0      0         0     0       3    0              0.5      0   \n",
       "1    3      1         1     3       1    1              0.5      2   \n",
       "2    1      0         0     1       3    1              0.5      1   \n",
       "3    2      1         0     3       1    1              0.0      2   \n",
       "4    2      0         0     1       3    0              0.5      0   \n",
       "\n",
       "   Family Size  \n",
       "0            1  \n",
       "1            1  \n",
       "2            0  \n",
       "3            1  \n",
       "4            0  "
      ]
     },
     "execution_count": 45,
     "metadata": {},
     "output_type": "execute_result"
    }
   ],
   "source": [
    "# Final look at the data\n",
    "data.head()"
   ]
  },
  {
   "cell_type": "markdown",
   "metadata": {
    "_uuid": "499b0de326e6b290531c947fb824675a5357cb73"
   },
   "source": [
    "And that's the lot - onto machine learning!"
   ]
  },
  {
   "cell_type": "markdown",
   "metadata": {
    "_uuid": "2924a31df5e032696086faf137b198243ef16031"
   },
   "source": [
    "## 6. Machine Learning\n",
    "Before we can fit models, a few more steps are needed in order to get the data in the correct shape for modelling. This involves re-splitting the train & test datasets, followed by setting up our X_train & X_test variables. Note that we already have our y_train variable from before. We don't have a y_test variable, this would be the survival stat per users in the test set, and this is what we are looking to predict!\n",
    "\n",
    "I am also going to scale the data using the StandardScaler tool. This isn't a requirement for every algorithm, but for those that use what's known as the euclidean distance (or straight line distance) in order to make predictions, having features that all operate on different length scales will unfairly skew the model's interpretation of the data. So, StandardScaler aligns all features onto the same scale and thus avoids us running into this issue."
   ]
  },
  {
   "cell_type": "code",
   "execution_count": 46,
   "metadata": {
    "_uuid": "6b3f1ae5672fad5a1b1f8d08f1d9ebc883aca3a0"
   },
   "outputs": [],
   "source": [
    "# Return to train/test sets\n",
    "train = data[:ntrain]\n",
    "test = data[ntrain:]"
   ]
  },
  {
   "cell_type": "code",
   "execution_count": 47,
   "metadata": {
    "_uuid": "68e0d41883d4b3449623c5e7db6d99c3fa77a2fb"
   },
   "outputs": [],
   "source": [
    "# Set up feature and target variables in train set, and remove Passenger ID from test set\n",
    "X_test = test\n",
    "X_train = train\n",
    "\n",
    "# Scaling data to support modelling\n",
    "scaler = StandardScaler()\n",
    "X_train = scaler.fit_transform(X_train)\n",
    "X_test = scaler.transform(X_test)"
   ]
  },
  {
   "cell_type": "code",
   "execution_count": 48,
   "metadata": {},
   "outputs": [
    {
     "data": {
      "text/html": [
       "<div>\n",
       "<style scoped>\n",
       "    .dataframe tbody tr th:only-of-type {\n",
       "        vertical-align: middle;\n",
       "    }\n",
       "\n",
       "    .dataframe tbody tr th {\n",
       "        vertical-align: top;\n",
       "    }\n",
       "\n",
       "    .dataframe thead th {\n",
       "        text-align: right;\n",
       "    }\n",
       "</style>\n",
       "<table border=\"1\" class=\"dataframe\">\n",
       "  <thead>\n",
       "    <tr style=\"text-align: right;\">\n",
       "      <th></th>\n",
       "      <th>Age</th>\n",
       "      <th>Cabin</th>\n",
       "      <th>Embarked</th>\n",
       "      <th>Fare</th>\n",
       "      <th>Pclass</th>\n",
       "      <th>Sex</th>\n",
       "      <th>Family_Survival</th>\n",
       "      <th>Title</th>\n",
       "      <th>Family Size</th>\n",
       "    </tr>\n",
       "  </thead>\n",
       "  <tbody>\n",
       "    <tr>\n",
       "      <td>count</td>\n",
       "      <td>418.000000</td>\n",
       "      <td>418.000000</td>\n",
       "      <td>418.000000</td>\n",
       "      <td>418.000000</td>\n",
       "      <td>418.000000</td>\n",
       "      <td>418.000000</td>\n",
       "      <td>418.000000</td>\n",
       "      <td>418.000000</td>\n",
       "      <td>418.000000</td>\n",
       "    </tr>\n",
       "    <tr>\n",
       "      <td>mean</td>\n",
       "      <td>1.279904</td>\n",
       "      <td>0.217703</td>\n",
       "      <td>0.464115</td>\n",
       "      <td>1.485646</td>\n",
       "      <td>2.265550</td>\n",
       "      <td>0.363636</td>\n",
       "      <td>0.529904</td>\n",
       "      <td>0.688995</td>\n",
       "      <td>0.839713</td>\n",
       "    </tr>\n",
       "    <tr>\n",
       "      <td>std</td>\n",
       "      <td>1.114813</td>\n",
       "      <td>0.413179</td>\n",
       "      <td>0.685516</td>\n",
       "      <td>1.148885</td>\n",
       "      <td>0.841838</td>\n",
       "      <td>0.481622</td>\n",
       "      <td>0.318781</td>\n",
       "      <td>0.931167</td>\n",
       "      <td>1.519072</td>\n",
       "    </tr>\n",
       "    <tr>\n",
       "      <td>min</td>\n",
       "      <td>0.000000</td>\n",
       "      <td>0.000000</td>\n",
       "      <td>0.000000</td>\n",
       "      <td>0.000000</td>\n",
       "      <td>1.000000</td>\n",
       "      <td>0.000000</td>\n",
       "      <td>0.000000</td>\n",
       "      <td>0.000000</td>\n",
       "      <td>0.000000</td>\n",
       "    </tr>\n",
       "    <tr>\n",
       "      <td>25%</td>\n",
       "      <td>0.000000</td>\n",
       "      <td>0.000000</td>\n",
       "      <td>0.000000</td>\n",
       "      <td>0.000000</td>\n",
       "      <td>1.000000</td>\n",
       "      <td>0.000000</td>\n",
       "      <td>0.500000</td>\n",
       "      <td>0.000000</td>\n",
       "      <td>0.000000</td>\n",
       "    </tr>\n",
       "    <tr>\n",
       "      <td>50%</td>\n",
       "      <td>1.000000</td>\n",
       "      <td>0.000000</td>\n",
       "      <td>0.000000</td>\n",
       "      <td>1.000000</td>\n",
       "      <td>3.000000</td>\n",
       "      <td>0.000000</td>\n",
       "      <td>0.500000</td>\n",
       "      <td>0.000000</td>\n",
       "      <td>0.000000</td>\n",
       "    </tr>\n",
       "    <tr>\n",
       "      <td>75%</td>\n",
       "      <td>2.000000</td>\n",
       "      <td>0.000000</td>\n",
       "      <td>1.000000</td>\n",
       "      <td>3.000000</td>\n",
       "      <td>3.000000</td>\n",
       "      <td>1.000000</td>\n",
       "      <td>0.500000</td>\n",
       "      <td>1.000000</td>\n",
       "      <td>1.000000</td>\n",
       "    </tr>\n",
       "    <tr>\n",
       "      <td>max</td>\n",
       "      <td>3.000000</td>\n",
       "      <td>1.000000</td>\n",
       "      <td>2.000000</td>\n",
       "      <td>3.000000</td>\n",
       "      <td>3.000000</td>\n",
       "      <td>1.000000</td>\n",
       "      <td>1.000000</td>\n",
       "      <td>3.000000</td>\n",
       "      <td>10.000000</td>\n",
       "    </tr>\n",
       "  </tbody>\n",
       "</table>\n",
       "</div>"
      ],
      "text/plain": [
       "              Age       Cabin    Embarked        Fare      Pclass         Sex  \\\n",
       "count  418.000000  418.000000  418.000000  418.000000  418.000000  418.000000   \n",
       "mean     1.279904    0.217703    0.464115    1.485646    2.265550    0.363636   \n",
       "std      1.114813    0.413179    0.685516    1.148885    0.841838    0.481622   \n",
       "min      0.000000    0.000000    0.000000    0.000000    1.000000    0.000000   \n",
       "25%      0.000000    0.000000    0.000000    0.000000    1.000000    0.000000   \n",
       "50%      1.000000    0.000000    0.000000    1.000000    3.000000    0.000000   \n",
       "75%      2.000000    0.000000    1.000000    3.000000    3.000000    1.000000   \n",
       "max      3.000000    1.000000    2.000000    3.000000    3.000000    1.000000   \n",
       "\n",
       "       Family_Survival       Title  Family Size  \n",
       "count       418.000000  418.000000   418.000000  \n",
       "mean          0.529904    0.688995     0.839713  \n",
       "std           0.318781    0.931167     1.519072  \n",
       "min           0.000000    0.000000     0.000000  \n",
       "25%           0.500000    0.000000     0.000000  \n",
       "50%           0.500000    0.000000     0.000000  \n",
       "75%           0.500000    1.000000     1.000000  \n",
       "max           1.000000    3.000000    10.000000  "
      ]
     },
     "execution_count": 48,
     "metadata": {},
     "output_type": "execute_result"
    }
   ],
   "source": [
    "test.describe()"
   ]
  },
  {
   "cell_type": "code",
   "execution_count": 49,
   "metadata": {},
   "outputs": [
    {
     "data": {
      "text/html": [
       "<div>\n",
       "<style scoped>\n",
       "    .dataframe tbody tr th:only-of-type {\n",
       "        vertical-align: middle;\n",
       "    }\n",
       "\n",
       "    .dataframe tbody tr th {\n",
       "        vertical-align: top;\n",
       "    }\n",
       "\n",
       "    .dataframe thead th {\n",
       "        text-align: right;\n",
       "    }\n",
       "</style>\n",
       "<table border=\"1\" class=\"dataframe\">\n",
       "  <thead>\n",
       "    <tr style=\"text-align: right;\">\n",
       "      <th></th>\n",
       "      <th>Age</th>\n",
       "      <th>Cabin</th>\n",
       "      <th>Embarked</th>\n",
       "      <th>Fare</th>\n",
       "      <th>Pclass</th>\n",
       "      <th>Sex</th>\n",
       "      <th>Family_Survival</th>\n",
       "      <th>Title</th>\n",
       "      <th>Family Size</th>\n",
       "    </tr>\n",
       "  </thead>\n",
       "  <tbody>\n",
       "    <tr>\n",
       "      <td>count</td>\n",
       "      <td>891.000000</td>\n",
       "      <td>891.000000</td>\n",
       "      <td>891.000000</td>\n",
       "      <td>891.000000</td>\n",
       "      <td>891.000000</td>\n",
       "      <td>891.000000</td>\n",
       "      <td>891.000000</td>\n",
       "      <td>891.000000</td>\n",
       "      <td>891.000000</td>\n",
       "    </tr>\n",
       "    <tr>\n",
       "      <td>mean</td>\n",
       "      <td>1.276094</td>\n",
       "      <td>0.228956</td>\n",
       "      <td>0.361392</td>\n",
       "      <td>1.489338</td>\n",
       "      <td>2.308642</td>\n",
       "      <td>0.352413</td>\n",
       "      <td>0.519641</td>\n",
       "      <td>0.631874</td>\n",
       "      <td>0.904602</td>\n",
       "    </tr>\n",
       "    <tr>\n",
       "      <td>std</td>\n",
       "      <td>1.116818</td>\n",
       "      <td>0.420397</td>\n",
       "      <td>0.635673</td>\n",
       "      <td>1.111052</td>\n",
       "      <td>0.836071</td>\n",
       "      <td>0.477990</td>\n",
       "      <td>0.323961</td>\n",
       "      <td>0.890180</td>\n",
       "      <td>1.613459</td>\n",
       "    </tr>\n",
       "    <tr>\n",
       "      <td>min</td>\n",
       "      <td>0.000000</td>\n",
       "      <td>0.000000</td>\n",
       "      <td>0.000000</td>\n",
       "      <td>0.000000</td>\n",
       "      <td>1.000000</td>\n",
       "      <td>0.000000</td>\n",
       "      <td>0.000000</td>\n",
       "      <td>0.000000</td>\n",
       "      <td>0.000000</td>\n",
       "    </tr>\n",
       "    <tr>\n",
       "      <td>25%</td>\n",
       "      <td>0.000000</td>\n",
       "      <td>0.000000</td>\n",
       "      <td>0.000000</td>\n",
       "      <td>0.500000</td>\n",
       "      <td>2.000000</td>\n",
       "      <td>0.000000</td>\n",
       "      <td>0.500000</td>\n",
       "      <td>0.000000</td>\n",
       "      <td>0.000000</td>\n",
       "    </tr>\n",
       "    <tr>\n",
       "      <td>50%</td>\n",
       "      <td>1.000000</td>\n",
       "      <td>0.000000</td>\n",
       "      <td>0.000000</td>\n",
       "      <td>1.000000</td>\n",
       "      <td>3.000000</td>\n",
       "      <td>0.000000</td>\n",
       "      <td>0.500000</td>\n",
       "      <td>0.000000</td>\n",
       "      <td>0.000000</td>\n",
       "    </tr>\n",
       "    <tr>\n",
       "      <td>75%</td>\n",
       "      <td>2.000000</td>\n",
       "      <td>0.000000</td>\n",
       "      <td>1.000000</td>\n",
       "      <td>2.000000</td>\n",
       "      <td>3.000000</td>\n",
       "      <td>1.000000</td>\n",
       "      <td>0.500000</td>\n",
       "      <td>1.000000</td>\n",
       "      <td>1.000000</td>\n",
       "    </tr>\n",
       "    <tr>\n",
       "      <td>max</td>\n",
       "      <td>3.000000</td>\n",
       "      <td>1.000000</td>\n",
       "      <td>2.000000</td>\n",
       "      <td>3.000000</td>\n",
       "      <td>3.000000</td>\n",
       "      <td>1.000000</td>\n",
       "      <td>1.000000</td>\n",
       "      <td>3.000000</td>\n",
       "      <td>10.000000</td>\n",
       "    </tr>\n",
       "  </tbody>\n",
       "</table>\n",
       "</div>"
      ],
      "text/plain": [
       "              Age       Cabin    Embarked        Fare      Pclass         Sex  \\\n",
       "count  891.000000  891.000000  891.000000  891.000000  891.000000  891.000000   \n",
       "mean     1.276094    0.228956    0.361392    1.489338    2.308642    0.352413   \n",
       "std      1.116818    0.420397    0.635673    1.111052    0.836071    0.477990   \n",
       "min      0.000000    0.000000    0.000000    0.000000    1.000000    0.000000   \n",
       "25%      0.000000    0.000000    0.000000    0.500000    2.000000    0.000000   \n",
       "50%      1.000000    0.000000    0.000000    1.000000    3.000000    0.000000   \n",
       "75%      2.000000    0.000000    1.000000    2.000000    3.000000    1.000000   \n",
       "max      3.000000    1.000000    2.000000    3.000000    3.000000    1.000000   \n",
       "\n",
       "       Family_Survival       Title  Family Size  \n",
       "count       891.000000  891.000000   891.000000  \n",
       "mean          0.519641    0.631874     0.904602  \n",
       "std           0.323961    0.890180     1.613459  \n",
       "min           0.000000    0.000000     0.000000  \n",
       "25%           0.500000    0.000000     0.000000  \n",
       "50%           0.500000    0.000000     0.000000  \n",
       "75%           0.500000    1.000000     1.000000  \n",
       "max           1.000000    3.000000    10.000000  "
      ]
     },
     "execution_count": 49,
     "metadata": {},
     "output_type": "execute_result"
    }
   ],
   "source": [
    "train.describe()"
   ]
  },
  {
   "cell_type": "markdown",
   "metadata": {
    "_uuid": "252a2959997ec33c1ad04a352f7fd28436733d97"
   },
   "source": [
    "Now onto the fun stuff, training our cleaned up data. I am going to tackle the modelling in a series of steps which are hopefully easy to follow:\n",
    "\n",
    "1. <b>Train initial models</b>\n",
    "2. <b>Remove features and re-train</b>\n",
    "3. <b>Tuned parameters and re-train</b>\n",
    "4. <b>Build into a Voting Classifier and predict.</b>\n",
    "\n",
    "I'll explain more about each step as I go along!"
   ]
  },
  {
   "cell_type": "markdown",
   "metadata": {
    "_uuid": "194377a4f1de9b8c53e364dcaf7bb14dd6bb8b67"
   },
   "source": [
    "### Round 1: Initial models\n",
    "The current problem is a classification problem, that is, the outcome can be classified into one class or the other (survived or not). Each of the below algorithms is applicable for such a problem and I'm interested to see how each of them perform on the current dataset, and which comes out on top. I would encourage to check the sci-kit learn documentation for a more detailed overview in regards to how each algorithm specifically works.\n",
    "\n",
    "What i'm going to do here is fit each of these 11 models in turn, before returning what's know as their cross-validated score. A model's performance is dependent on the way the data has been split between training and test data. This isn't really that representative of the model's ability to generalise, because there could be unique quirks within the train (or test) set which the model either learns (or does not learn) incorrectly. In order to gain a smooth out representation of the full dataset, K fold cross validation can be applied. It works in the following way: \n",
    "\n",
    "Randomly split your entire dataset into k 'folds'. \n",
    "- For each k folds in your dataset, build your model on k – 1 folds of the data set. Then, test the model to check the effectiveness for kth fold. \n",
    "- Record the error you see on each of the predictions. \n",
    "- Repeat this until each of the k folds has served as the test set. \n",
    "\n",
    "The average of your k recorded errors is called the cross-validation error and will serve as your performance metric for the model. I am going to use 10 folds in this example, which will be plenty."
   ]
  },
  {
   "cell_type": "code",
   "execution_count": 50,
   "metadata": {
    "_uuid": "ba726918140842ace341271f5ebdd0bd9d505b56"
   },
   "outputs": [],
   "source": [
    "# Initiate 11 classifier models\n",
    "ran = RandomForestClassifier(random_state=1)\n",
    "knn = KNeighborsClassifier()\n",
    "log = LogisticRegression()\n",
    "xgb = XGBClassifier()\n",
    "gbc = GradientBoostingClassifier()\n",
    "svc = SVC(probability=True)\n",
    "ext = ExtraTreesClassifier()\n",
    "ada = AdaBoostClassifier()\n",
    "gnb = GaussianNB()\n",
    "gpc = GaussianProcessClassifier()\n",
    "bag = BaggingClassifier()\n",
    "\n",
    "# Prepare lists\n",
    "models = [ran, knn, log, xgb, gbc, svc, ext, ada, gnb, gpc, bag]         \n",
    "scores = []\n",
    "\n",
    "# Sequentially fit and cross validate all models\n",
    "for mod in models:\n",
    "    mod.fit(X_train, y_train)\n",
    "    acc = cross_val_score(mod, X_train, y_train, scoring = \"accuracy\", cv = 10)\n",
    "    scores.append(acc.mean())"
   ]
  },
  {
   "cell_type": "markdown",
   "metadata": {
    "_uuid": "b82167c62d3faef6d73e817e536c4792969e004d"
   },
   "source": [
    "The above for loop has packed my 11 model cross validated scores into the list 'score'. I'm now going to unpack this data into a table first, then graph to learn the results.\n",
    "\n",
    "Note at this time that our scoring metric is 'accuracy'. This is the competition requirement and is simply a percentage count of the correct classifications provided. For classification problems, however, it's not always best practice to use accuracy as your scoring metric. Consider a dataset where 80% of the target is class A, and the remaining 20% is class B. An accuracy score of 80% on this dataset might on face value sound positive, however, the classifier could have simply predicted every observation as class A. There are 80% in class A in total, thus it is 80% correct. This model clearly lacks any real use, but a mis-leading accuracy score could prevent that being so easily spotted. Metrics such as precision & recall or the roc-auc score can be used as alternative scoring metrics for classification problems. I'll spare the description here, but have a Google if you're interested in learning more."
   ]
  },
  {
   "cell_type": "code",
   "execution_count": 51,
   "metadata": {
    "_uuid": "b62ffe65376eda65cbf6c59f0dfb0c9219e07e68"
   },
   "outputs": [
    {
     "data": {
      "text/html": [
       "<div>\n",
       "<style scoped>\n",
       "    .dataframe tbody tr th:only-of-type {\n",
       "        vertical-align: middle;\n",
       "    }\n",
       "\n",
       "    .dataframe tbody tr th {\n",
       "        vertical-align: top;\n",
       "    }\n",
       "\n",
       "    .dataframe thead th {\n",
       "        text-align: right;\n",
       "    }\n",
       "</style>\n",
       "<table border=\"1\" class=\"dataframe\">\n",
       "  <thead>\n",
       "    <tr style=\"text-align: right;\">\n",
       "      <th></th>\n",
       "      <th>Model</th>\n",
       "      <th>Score</th>\n",
       "    </tr>\n",
       "  </thead>\n",
       "  <tbody>\n",
       "    <tr>\n",
       "      <td>0</td>\n",
       "      <td>XGBoost</td>\n",
       "      <td>0.856364</td>\n",
       "    </tr>\n",
       "    <tr>\n",
       "      <td>1</td>\n",
       "      <td>Gradient Boosting</td>\n",
       "      <td>0.855215</td>\n",
       "    </tr>\n",
       "    <tr>\n",
       "      <td>2</td>\n",
       "      <td>SVC</td>\n",
       "      <td>0.854079</td>\n",
       "    </tr>\n",
       "    <tr>\n",
       "      <td>3</td>\n",
       "      <td>Logistic Regression</td>\n",
       "      <td>0.847388</td>\n",
       "    </tr>\n",
       "    <tr>\n",
       "      <td>4</td>\n",
       "      <td>Gaussian Process</td>\n",
       "      <td>0.843979</td>\n",
       "    </tr>\n",
       "    <tr>\n",
       "      <td>5</td>\n",
       "      <td>AdaBoost</td>\n",
       "      <td>0.841794</td>\n",
       "    </tr>\n",
       "    <tr>\n",
       "      <td>6</td>\n",
       "      <td>Bagging Classifier</td>\n",
       "      <td>0.833917</td>\n",
       "    </tr>\n",
       "    <tr>\n",
       "      <td>7</td>\n",
       "      <td>Random Forest</td>\n",
       "      <td>0.830521</td>\n",
       "    </tr>\n",
       "    <tr>\n",
       "      <td>8</td>\n",
       "      <td>Extra Trees</td>\n",
       "      <td>0.822731</td>\n",
       "    </tr>\n",
       "    <tr>\n",
       "      <td>9</td>\n",
       "      <td>Gaussian Naive Bayes</td>\n",
       "      <td>0.813830</td>\n",
       "    </tr>\n",
       "    <tr>\n",
       "      <td>10</td>\n",
       "      <td>K Nearest Neighbour</td>\n",
       "      <td>0.801344</td>\n",
       "    </tr>\n",
       "  </tbody>\n",
       "</table>\n",
       "</div>"
      ],
      "text/plain": [
       "                   Model     Score\n",
       "0                XGBoost  0.856364\n",
       "1      Gradient Boosting  0.855215\n",
       "2                    SVC  0.854079\n",
       "3    Logistic Regression  0.847388\n",
       "4       Gaussian Process  0.843979\n",
       "5               AdaBoost  0.841794\n",
       "6     Bagging Classifier  0.833917\n",
       "7          Random Forest  0.830521\n",
       "8            Extra Trees  0.822731\n",
       "9   Gaussian Naive Bayes  0.813830\n",
       "10   K Nearest Neighbour  0.801344"
      ]
     },
     "execution_count": 51,
     "metadata": {},
     "output_type": "execute_result"
    }
   ],
   "source": [
    "# Creating a table of results, ranked highest to lowest\n",
    "results = pd.DataFrame({\n",
    "    'Model': ['Random Forest', 'K Nearest Neighbour', 'Logistic Regression', 'XGBoost', 'Gradient Boosting', 'SVC', 'Extra Trees', 'AdaBoost', 'Gaussian Naive Bayes', 'Gaussian Process', 'Bagging Classifier'],\n",
    "    'Score': scores})\n",
    "\n",
    "result_df = results.sort_values(by='Score', ascending=False).reset_index(drop=True)\n",
    "result_df.head(11)"
   ]
  },
  {
   "cell_type": "code",
   "execution_count": 52,
   "metadata": {
    "_uuid": "7b5681400668922fe0e1aa5973aa2ed580b5fd2f"
   },
   "outputs": [
    {
     "data": {
      "text/plain": [
       "(0.8, 0.86)"
      ]
     },
     "execution_count": 52,
     "metadata": {},
     "output_type": "execute_result"
    },
    {
     "data": {
      "image/png": "[encoded data removed]",
      "text/plain": [
       "<Figure size 432x288 with 1 Axes>"
      ]
     },
     "metadata": {
      "needs_background": "light"
     },
     "output_type": "display_data"
    }
   ],
   "source": [
    "# Plot results\n",
    "sns.barplot(x='Score', y = 'Model', data = result_df, color = 'c')\n",
    "plt.title('Machine Learning Algorithm Accuracy Score \\n')\n",
    "plt.xlabel('Accuracy Score (%)')\n",
    "plt.ylabel('Algorithm')\n",
    "plt.xlim(0.80, 0.86)"
   ]
  },
  {
   "cell_type": "markdown",
   "metadata": {
    "_uuid": "d73eabe9d9c6cf607e95f86c7df8f90c83b13021"
   },
   "source": [
    "Round 1 complete and it is the Gradient Boosting algorithms that come out top. This isn't a surprise - Gradient boosting is a machine learning technique for regression and classification problems, which produces a prediction model in the form of an ensemble of weak prediction models, typically decision trees. It builds the model in a stage-wise fashion like other boosting methods do, and it generalizes them by allowing optimization of an arbitrary differentiable loss function. They are typically regarded as best in class predictors and they form the basis on many winning competition models.\n",
    "\n",
    "I want to now see how heavily each feature was leaned in the modelling process. Let's look at what feature XGBoost found most useful when achieved the top score in round one. To help present this data i'm going to construct my own gragh - code below."
   ]
  },
  {
   "cell_type": "code",
   "execution_count": 53,
   "metadata": {
    "_uuid": "3e62a15568e267603de0cba1494edbef1a5c311a"
   },
   "outputs": [],
   "source": [
    "# Function for new graph\n",
    "def importance_plotting(data, x, y, palette, title):\n",
    "    sns.set(style=\"whitegrid\")\n",
    "    ft = sns.PairGrid(data, y_vars=y, x_vars=x, size=5, aspect=1.5)\n",
    "    ft.map(sns.stripplot, orient='h', palette=palette, edgecolor=\"black\", size=15)\n",
    "    \n",
    "    for ax, title in zip(ft.axes.flat, titles):\n",
    "    # Set a different title for each axes\n",
    "        ax.set(title=title)\n",
    "    # Make the grid horizontal instead of vertical\n",
    "        ax.xaxis.grid(False)\n",
    "        ax.yaxis.grid(True)\n",
    "    plt.show()"
   ]
  },
  {
   "cell_type": "code",
   "execution_count": 54,
   "metadata": {
    "_uuid": "ee2f46a73038537a94adb921fe425fbcfbb7787f"
   },
   "outputs": [],
   "source": [
    "# Building feature importance into a DataFrame\n",
    "fi = {'Features':train.columns.tolist(), 'Importance':xgb.feature_importances_}\n",
    "importance = pd.DataFrame(fi, index=None).sort_values('Importance', ascending=False)"
   ]
  },
  {
   "cell_type": "code",
   "execution_count": 55,
   "metadata": {
    "_uuid": "1b0452c252309d78d25dcf395bdbcdcbd6c0c4a4"
   },
   "outputs": [
    {
     "data": {
      "image/png": "[encoded data removed]",
      "text/plain": [
       "<Figure size 540x360 with 1 Axes>"
      ]
     },
     "metadata": {},
     "output_type": "display_data"
    }
   ],
   "source": [
    "# Creating graph title\n",
    "titles = ['The most important features in predicting survival on the Titanic: XGBoost']\n",
    "\n",
    "# Plotting graph\n",
    "importance_plotting(importance, 'Importance', 'Features', 'Reds_r', titles)"
   ]
  },
  {
   "cell_type": "markdown",
   "metadata": {
    "_uuid": "7a77abe2ba5d3ae981f8886e6ef8bb22009fa33a"
   },
   "source": [
    "Always the most interesting - in my opinion anyway! The imputed age feature went down a treat with XGBoost, followed closely by the new Family Survival feature. I'm pretty happy with that. Sex, Cabin & Embarked were a little more, well, useless shall we say. Scores so low indicates that these features more likely hindered rather than helped in the model prediction. Let's check out a different top performing algorithm."
   ]
  },
  {
   "cell_type": "code",
   "execution_count": 56,
   "metadata": {
    "_uuid": "1bdfd634d7cf99292d55a63d2ebc28eceaa3a633"
   },
   "outputs": [],
   "source": [
    "# Building feature importance into a DataFrame\n",
    "fi = {'Features':train.columns.tolist(), 'Importance':np.transpose(log.coef_[0])}\n",
    "importance = pd.DataFrame(fi, index=None).sort_values('Importance', ascending=False)"
   ]
  },
  {
   "cell_type": "code",
   "execution_count": 57,
   "metadata": {
    "_uuid": "33a1ef2d6ae94354689b0401e4a6b955818039f0"
   },
   "outputs": [
    {
     "data": {
      "image/png": "[encoded data removed]",
      "text/plain": [
       "<Figure size 540x360 with 1 Axes>"
      ]
     },
     "metadata": {},
     "output_type": "display_data"
    }
   ],
   "source": [
    "# Creating graph title\n",
    "titles = ['The most important features in predicting survival on the Titanic: Logistic Regression']\n",
    "\n",
    "# Plotting graph\n",
    "importance_plotting(importance, 'Importance', 'Features', 'Reds_r', titles)"
   ]
  },
  {
   "cell_type": "markdown",
   "metadata": {
    "_uuid": "fde2d0abc0a23e930cbc564dc458177e62a38fab"
   },
   "source": [
    "Rather than feature importances, Logistic Regression uses coefficients which actually aid better real world interpretation. There are both positive & negative impact features on display, this time with Title being most useful. Sex is also a strong feature for this model, in stark contrast to XGB. Those in the middle (Embarked, Fare, Cabin) all had largely no part to play except for possibly creating unhelpful 'noise' in the dataset. Noise weakens the model's ability to find patterns clearly, and can in some cases lead to lower overall performance. Embarked & cabin are two repeat offenders, and as such go onto my watch list!"
   ]
  },
  {
   "cell_type": "markdown",
   "metadata": {
    "_uuid": "02948fd05c24e92128d302732bdc2af115ee4ec6"
   },
   "source": [
    "### Round 2: Feature selection\n",
    "We have made good progress so far and have a few particularly strong performing models, however, if we did we'd be failing to harness the true potential of each model's ability to predict on this dataset. The following steps will walk through how we can optimise our 'baseline' predictions to yield a stronger overall score (and ultimately climb further up the leaderboard).\n",
    "\n",
    "The first step is feature selection, and by that I mean carry forward only helpful features and remove those that are not contributing towards model performance. This step I anticipate should help to unshackle some currently weak performing models (i'm looking at the KNN model when I say this).\n",
    "\n",
    "To get a better gist in terms of what needs the boost, i'm going to get a collective view of all models that will give us a 'feature importance' list. We can then compare these values and draw a cut-off for the features that, overall, provides the least amount of help."
   ]
  },
  {
   "cell_type": "code",
   "execution_count": 58,
   "metadata": {
    "_uuid": "c4c3d597493d73abe6e6d07687d118da907c3856"
   },
   "outputs": [
    {
     "data": {
      "text/html": [
       "<div>\n",
       "<style scoped>\n",
       "    .dataframe tbody tr th:only-of-type {\n",
       "        vertical-align: middle;\n",
       "    }\n",
       "\n",
       "    .dataframe tbody tr th {\n",
       "        vertical-align: top;\n",
       "    }\n",
       "\n",
       "    .dataframe thead th {\n",
       "        text-align: right;\n",
       "    }\n",
       "</style>\n",
       "<table border=\"1\" class=\"dataframe\">\n",
       "  <thead>\n",
       "    <tr style=\"text-align: right;\">\n",
       "      <th></th>\n",
       "      <th>Feature</th>\n",
       "      <th>gbc importance</th>\n",
       "      <th>xgb importance</th>\n",
       "      <th>ran importance</th>\n",
       "      <th>ext importance</th>\n",
       "      <th>ada importance</th>\n",
       "      <th>Average</th>\n",
       "    </tr>\n",
       "  </thead>\n",
       "  <tbody>\n",
       "    <tr>\n",
       "      <td>0</td>\n",
       "      <td>Title</td>\n",
       "      <td>0.526483</td>\n",
       "      <td>0.493975</td>\n",
       "      <td>0.264317</td>\n",
       "      <td>0.204073</td>\n",
       "      <td>0.14</td>\n",
       "      <td>0.325769</td>\n",
       "    </tr>\n",
       "    <tr>\n",
       "      <td>1</td>\n",
       "      <td>Family_Survival</td>\n",
       "      <td>0.210532</td>\n",
       "      <td>0.132249</td>\n",
       "      <td>0.146282</td>\n",
       "      <td>0.132425</td>\n",
       "      <td>0.14</td>\n",
       "      <td>0.152298</td>\n",
       "    </tr>\n",
       "    <tr>\n",
       "      <td>2</td>\n",
       "      <td>Pclass</td>\n",
       "      <td>0.123291</td>\n",
       "      <td>0.138155</td>\n",
       "      <td>0.099272</td>\n",
       "      <td>0.093929</td>\n",
       "      <td>0.12</td>\n",
       "      <td>0.114929</td>\n",
       "    </tr>\n",
       "    <tr>\n",
       "      <td>3</td>\n",
       "      <td>Family Size</td>\n",
       "      <td>0.036266</td>\n",
       "      <td>0.037675</td>\n",
       "      <td>0.089831</td>\n",
       "      <td>0.084701</td>\n",
       "      <td>0.26</td>\n",
       "      <td>0.101695</td>\n",
       "    </tr>\n",
       "    <tr>\n",
       "      <td>4</td>\n",
       "      <td>Sex</td>\n",
       "      <td>0.001307</td>\n",
       "      <td>0.035564</td>\n",
       "      <td>0.157222</td>\n",
       "      <td>0.212934</td>\n",
       "      <td>0.02</td>\n",
       "      <td>0.085405</td>\n",
       "    </tr>\n",
       "    <tr>\n",
       "      <td>5</td>\n",
       "      <td>Age</td>\n",
       "      <td>0.024819</td>\n",
       "      <td>0.021103</td>\n",
       "      <td>0.088934</td>\n",
       "      <td>0.076512</td>\n",
       "      <td>0.16</td>\n",
       "      <td>0.074274</td>\n",
       "    </tr>\n",
       "    <tr>\n",
       "      <td>6</td>\n",
       "      <td>Cabin</td>\n",
       "      <td>0.038474</td>\n",
       "      <td>0.090474</td>\n",
       "      <td>0.042673</td>\n",
       "      <td>0.071438</td>\n",
       "      <td>0.06</td>\n",
       "      <td>0.060612</td>\n",
       "    </tr>\n",
       "    <tr>\n",
       "      <td>7</td>\n",
       "      <td>Fare</td>\n",
       "      <td>0.030405</td>\n",
       "      <td>0.027483</td>\n",
       "      <td>0.066060</td>\n",
       "      <td>0.072215</td>\n",
       "      <td>0.04</td>\n",
       "      <td>0.047233</td>\n",
       "    </tr>\n",
       "    <tr>\n",
       "      <td>8</td>\n",
       "      <td>Embarked</td>\n",
       "      <td>0.008423</td>\n",
       "      <td>0.023322</td>\n",
       "      <td>0.045410</td>\n",
       "      <td>0.051773</td>\n",
       "      <td>0.06</td>\n",
       "      <td>0.037786</td>\n",
       "    </tr>\n",
       "  </tbody>\n",
       "</table>\n",
       "</div>"
      ],
      "text/plain": [
       "           Feature  gbc importance  xgb importance  ran importance  \\\n",
       "0            Title        0.526483        0.493975        0.264317   \n",
       "1  Family_Survival        0.210532        0.132249        0.146282   \n",
       "2           Pclass        0.123291        0.138155        0.099272   \n",
       "3      Family Size        0.036266        0.037675        0.089831   \n",
       "4              Sex        0.001307        0.035564        0.157222   \n",
       "5              Age        0.024819        0.021103        0.088934   \n",
       "6            Cabin        0.038474        0.090474        0.042673   \n",
       "7             Fare        0.030405        0.027483        0.066060   \n",
       "8         Embarked        0.008423        0.023322        0.045410   \n",
       "\n",
       "   ext importance  ada importance   Average  \n",
       "0        0.204073            0.14  0.325769  \n",
       "1        0.132425            0.14  0.152298  \n",
       "2        0.093929            0.12  0.114929  \n",
       "3        0.084701            0.26  0.101695  \n",
       "4        0.212934            0.02  0.085405  \n",
       "5        0.076512            0.16  0.074274  \n",
       "6        0.071438            0.06  0.060612  \n",
       "7        0.072215            0.04  0.047233  \n",
       "8        0.051773            0.06  0.037786  "
      ]
     },
     "execution_count": 58,
     "metadata": {},
     "output_type": "execute_result"
    }
   ],
   "source": [
    "# Getting feature importances for the 5 models where we can\n",
    "gbc_imp = pd.DataFrame({'Feature':train.columns, 'gbc importance':gbc.feature_importances_})\n",
    "xgb_imp = pd.DataFrame({'Feature':train.columns, 'xgb importance':xgb.feature_importances_})\n",
    "ran_imp = pd.DataFrame({'Feature':train.columns, 'ran importance':ran.feature_importances_})\n",
    "ext_imp = pd.DataFrame({'Feature':train.columns, 'ext importance':ext.feature_importances_})\n",
    "ada_imp = pd.DataFrame({'Feature':train.columns, 'ada importance':ada.feature_importances_})\n",
    "\n",
    "# Merging results into a single dataframe\n",
    "importances = gbc_imp.merge(xgb_imp, on='Feature').merge(ran_imp, on='Feature').merge(ext_imp, on='Feature').merge(ada_imp, on='Feature')\n",
    "\n",
    "# Calculating average importance per feature\n",
    "importances['Average'] = importances.mean(axis=1)\n",
    "\n",
    "# Ranking top to bottom\n",
    "importances = importances.sort_values(by='Average', ascending=False).reset_index(drop=True)\n",
    "\n",
    "# Display\n",
    "importances"
   ]
  },
  {
   "cell_type": "markdown",
   "metadata": {
    "_uuid": "7dd2d8d8dc2330794113deb49affe9c1c42a6671"
   },
   "source": [
    "The league table is out and we have a winner in Title. Maybe this isn't so surprising given within title information on both age and gender is available. I find it interesting to see that where some models lean very heavily on a certain feature, others gain barely any value from it. The variance in Sex and Age is particularly striking. Let's get this data int a final graph before making a decision on which to cull."
   ]
  },
  {
   "cell_type": "code",
   "execution_count": 59,
   "metadata": {
    "_uuid": "0af69a66174518a9224ecdf0b134a0207103970a"
   },
   "outputs": [],
   "source": [
    "# Building feature importance into a DataFrame\n",
    "fi = {'Features':importances['Feature'], 'Importance':importances['Average']}\n",
    "importance = pd.DataFrame(fi, index=None).sort_values('Importance', ascending=False)"
   ]
  },
  {
   "cell_type": "code",
   "execution_count": 60,
   "metadata": {
    "_uuid": "3659f8ddb6954fad81fee7f5e035f7002036470d"
   },
   "outputs": [
    {
     "data": {
      "image/png": "[encoded data removed]",
      "text/plain": [
       "<Figure size 540x360 with 1 Axes>"
      ]
     },
     "metadata": {},
     "output_type": "display_data"
    }
   ],
   "source": [
    "# Creating graph title\n",
    "titles = ['The most important features in predicting survival on the Titanic: 5 model average']\n",
    "\n",
    "# Plotting graph\n",
    "importance_plotting(importance, 'Importance', 'Features', 'Reds_r', titles)"
   ]
  },
  {
   "cell_type": "markdown",
   "metadata": {
    "_uuid": "40272b643e1ff4816bcfcebe7869094353cca911"
   },
   "source": [
    "It looks clear now that Embarked & Cabin really aren't helping us out, and therefore I am going to get rid of them. If I was looking to prioritise 1 or 2 models rather than 11, I would also consider removal of Sex, Fare and potentially Pclass too (depending on which were the models I was considering). However we can see from the above table that for some algorithms, each feature has an important part to play, and I want to prioritise strong performance across the board in preparation for the Voting Classifier (more on that later). So for now it's just the two for the chop."
   ]
  },
  {
   "cell_type": "code",
   "execution_count": 61,
   "metadata": {
    "_uuid": "45e7e9e6a54b1f5eee96c742d10d39fb261c9099"
   },
   "outputs": [],
   "source": [
    "# Drop redundant features\n",
    "train = train.drop(['Embarked', 'Cabin'], axis=1)\n",
    "test = test.drop(['Embarked', 'Cabin'], axis=1)\n",
    "\n",
    "# Re-build model variables\n",
    "X_train = train\n",
    "X_test = test\n",
    "\n",
    "# Transform\n",
    "X_train = scaler.fit_transform(X_train)\n",
    "X_test = scaler.transform(X_test)"
   ]
  },
  {
   "cell_type": "markdown",
   "metadata": {
    "_uuid": "c84db68e1d52544fafc32d66a78945fe3774dd5d"
   },
   "source": [
    "We're now into Round 2, i will complete the same steps as above and then stack our new results against the previous results, hopefully showing the increments gained from feature selection."
   ]
  },
  {
   "cell_type": "markdown",
   "metadata": {
    "_uuid": "e0be42ae35846d9a368ecbceb8ea8464d2000af7"
   },
   "source": [
    "### Model re-training"
   ]
  },
  {
   "cell_type": "code",
   "execution_count": 62,
   "metadata": {
    "_uuid": "c1158051f3c3520afa92444160466b475483be2f"
   },
   "outputs": [],
   "source": [
    "# Initiate models\n",
    "ran = RandomForestClassifier(random_state=1)\n",
    "knn = KNeighborsClassifier()\n",
    "log = LogisticRegression()\n",
    "xgb = XGBClassifier(random_state=1)\n",
    "gbc = GradientBoostingClassifier(random_state=1)\n",
    "svc = SVC(probability=True)\n",
    "ext = ExtraTreesClassifier(random_state=1)\n",
    "ada = AdaBoostClassifier(random_state=1)\n",
    "gnb = GaussianNB()\n",
    "gpc = GaussianProcessClassifier()\n",
    "bag = BaggingClassifier(random_state=1)\n",
    "\n",
    "# Lists\n",
    "models = [ran, knn, log, xgb, gbc, svc, ext, ada, gnb, gpc, bag]         \n",
    "scores_v2 = []\n",
    "\n",
    "# Fit & cross validate\n",
    "for mod in models:\n",
    "    mod.fit(X_train, y_train)\n",
    "    acc = cross_val_score(mod, X_train, y_train, scoring = \"accuracy\", cv = 10)\n",
    "    scores_v2.append(acc.mean())"
   ]
  },
  {
   "cell_type": "code",
   "execution_count": 63,
   "metadata": {
    "_uuid": "d63ecc8233ef713f6615f7c55b0584a21de6bd83"
   },
   "outputs": [
    {
     "data": {
      "text/html": [
       "<div>\n",
       "<style scoped>\n",
       "    .dataframe tbody tr th:only-of-type {\n",
       "        vertical-align: middle;\n",
       "    }\n",
       "\n",
       "    .dataframe tbody tr th {\n",
       "        vertical-align: top;\n",
       "    }\n",
       "\n",
       "    .dataframe thead th {\n",
       "        text-align: right;\n",
       "    }\n",
       "</style>\n",
       "<table border=\"1\" class=\"dataframe\">\n",
       "  <thead>\n",
       "    <tr style=\"text-align: right;\">\n",
       "      <th></th>\n",
       "      <th>Model</th>\n",
       "      <th>Original Score</th>\n",
       "      <th>Score with feature selection</th>\n",
       "    </tr>\n",
       "  </thead>\n",
       "  <tbody>\n",
       "    <tr>\n",
       "      <td>0</td>\n",
       "      <td>Gaussian Process</td>\n",
       "      <td>0.843979</td>\n",
       "      <td>0.857475</td>\n",
       "    </tr>\n",
       "    <tr>\n",
       "      <td>1</td>\n",
       "      <td>SVC</td>\n",
       "      <td>0.854079</td>\n",
       "      <td>0.857437</td>\n",
       "    </tr>\n",
       "    <tr>\n",
       "      <td>2</td>\n",
       "      <td>XGBoost</td>\n",
       "      <td>0.856364</td>\n",
       "      <td>0.856326</td>\n",
       "    </tr>\n",
       "    <tr>\n",
       "      <td>3</td>\n",
       "      <td>Gradient Boosting</td>\n",
       "      <td>0.855215</td>\n",
       "      <td>0.856313</td>\n",
       "    </tr>\n",
       "    <tr>\n",
       "      <td>4</td>\n",
       "      <td>K Nearest Neighbour</td>\n",
       "      <td>0.801344</td>\n",
       "      <td>0.849723</td>\n",
       "    </tr>\n",
       "    <tr>\n",
       "      <td>5</td>\n",
       "      <td>Logistic Regression</td>\n",
       "      <td>0.847388</td>\n",
       "      <td>0.848524</td>\n",
       "    </tr>\n",
       "    <tr>\n",
       "      <td>6</td>\n",
       "      <td>Bagging Classifier</td>\n",
       "      <td>0.833917</td>\n",
       "      <td>0.841731</td>\n",
       "    </tr>\n",
       "    <tr>\n",
       "      <td>7</td>\n",
       "      <td>Random Forest</td>\n",
       "      <td>0.830521</td>\n",
       "      <td>0.840633</td>\n",
       "    </tr>\n",
       "    <tr>\n",
       "      <td>8</td>\n",
       "      <td>Extra Trees</td>\n",
       "      <td>0.822731</td>\n",
       "      <td>0.837325</td>\n",
       "    </tr>\n",
       "    <tr>\n",
       "      <td>9</td>\n",
       "      <td>AdaBoost</td>\n",
       "      <td>0.841794</td>\n",
       "      <td>0.837300</td>\n",
       "    </tr>\n",
       "    <tr>\n",
       "      <td>10</td>\n",
       "      <td>Gaussian Naive Bayes</td>\n",
       "      <td>0.813830</td>\n",
       "      <td>0.822705</td>\n",
       "    </tr>\n",
       "  </tbody>\n",
       "</table>\n",
       "</div>"
      ],
      "text/plain": [
       "                   Model  Original Score  Score with feature selection\n",
       "0       Gaussian Process        0.843979                      0.857475\n",
       "1                    SVC        0.854079                      0.857437\n",
       "2                XGBoost        0.856364                      0.856326\n",
       "3      Gradient Boosting        0.855215                      0.856313\n",
       "4    K Nearest Neighbour        0.801344                      0.849723\n",
       "5    Logistic Regression        0.847388                      0.848524\n",
       "6     Bagging Classifier        0.833917                      0.841731\n",
       "7          Random Forest        0.830521                      0.840633\n",
       "8            Extra Trees        0.822731                      0.837325\n",
       "9               AdaBoost        0.841794                      0.837300\n",
       "10  Gaussian Naive Bayes        0.813830                      0.822705"
      ]
     },
     "execution_count": 63,
     "metadata": {},
     "output_type": "execute_result"
    }
   ],
   "source": [
    "# Creating a table of results, ranked highest to lowest\n",
    "results = pd.DataFrame({\n",
    "    'Model': ['Random Forest', 'K Nearest Neighbour', 'Logistic Regression', 'XGBoost', 'Gradient Boosting', 'SVC', 'Extra Trees', 'AdaBoost', 'Gaussian Naive Bayes', 'Gaussian Process', 'Bagging Classifier'],\n",
    "    'Original Score': scores,\n",
    "    'Score with feature selection': scores_v2})\n",
    "\n",
    "result_df = results.sort_values(by='Score with feature selection', ascending=False).reset_index(drop=True)\n",
    "result_df.head(11)"
   ]
  },
  {
   "cell_type": "code",
   "execution_count": 64,
   "metadata": {
    "_uuid": "7f178df0806b0e055d18d4bc01ffe36d461c080f"
   },
   "outputs": [
    {
     "data": {
      "text/plain": [
       "(0.8, 0.86)"
      ]
     },
     "execution_count": 64,
     "metadata": {},
     "output_type": "execute_result"
    },
    {
     "data": {
      "image/png": "[encoded data removed]",
      "text/plain": [
       "<Figure size 432x288 with 1 Axes>"
      ]
     },
     "metadata": {},
     "output_type": "display_data"
    }
   ],
   "source": [
    "# Plot results\n",
    "sns.barplot(x='Score with feature selection', y = 'Model', data = result_df, color = 'c')\n",
    "plt.title('Machine Learning Algorithm Accuracy Score \\n')\n",
    "plt.xlabel('Accuracy Score (%)')\n",
    "plt.ylabel('Algorithm')\n",
    "plt.xlim(0.80, 0.86)"
   ]
  },
  {
   "cell_type": "markdown",
   "metadata": {
    "_uuid": "faf4f26e542112719bc57a1bac0fc61590d04c5d"
   },
   "source": [
    "Great stuff, some big shifters on display. Gaussian Process now heads the pack over Gradient Boosting and the KNN model is now also mixing it up at the top, whereas prior to feature selection it was languishing down at the bottom. In all, 9/11 models have improved in score, with XGBoost remaining static and Adaboost taking a slight knock. That's a very favourable from something as simple as removing two features. We can now progress to round 3 - model tuning."
   ]
  },
  {
   "cell_type": "markdown",
   "metadata": {
    "_uuid": "f0846e8d5487d5a49d31d9fa0dd4f2e4a069a0f6"
   },
   "source": [
    "### Round 3: Model (hyper-parameter) tuning\n",
    "Within most machine learning algorithm exist a number of parameters that together can be fine tuned to produce the most accurate prediction on a given dataset. This is essentially what Hyperparamter tuning is - finding the best parameters for your model. The best way to achieve this, while computationally expensive, is to use a GridSearchCV. \n",
    "\n",
    "GridSearchCV is an exhaustive search over specified parameter values for an estimator, in order to find the values for optimum model performance. Each model has its own parameter's, so the Grid Search needs to be specific for each model. Below, I will complete a GridSearchCV for each model, specifying search ranges for each model's most important parameters, in order to find the one's that yield the highest accuracy score for the Titanic train set. \n",
    "\n",
    "FYI, if you're forking this kernel, it will take a while to run. I've kept my GridSearch relatively light touch in all, but expect to wait around 30 minutes from start to finish.\n",
    "\n",
    "More information on each model's parameter's can be found online. If you're also wondering how I arrived at suitable ranges for each parameter, I used a combination of Google, past experience and trial and error. That's it :)."
   ]
  },
  {
   "cell_type": "markdown",
   "metadata": {
    "_uuid": "aaec4f9c22590618fda3ef925a5eb717da417f08"
   },
   "source": [
    "#### SVC"
   ]
  },
  {
   "cell_type": "code",
   "execution_count": 65,
   "metadata": {
    "_uuid": "d8c647ddd9ecd81b94c25e125cee4f1adf5f8546"
   },
   "outputs": [
    {
     "name": "stdout",
     "output_type": "stream",
     "text": [
      "Fitting 5 folds for each of 40 candidates, totalling 200 fits\n"
     ]
    },
    {
     "name": "stderr",
     "output_type": "stream",
     "text": [
      "[Parallel(n_jobs=1)]: Using backend SequentialBackend with 1 concurrent workers.\n"
     ]
    },
    {
     "name": "stdout",
     "output_type": "stream",
     "text": [
      "0.856341189674523\n",
      "SVC(C=1, cache_size=200, class_weight=None, coef0=0.0,\n",
      "    decision_function_shape='ovr', degree=3, gamma=0.1, kernel='rbf',\n",
      "    max_iter=-1, probability=True, random_state=None, shrinking=True, tol=0.001,\n",
      "    verbose=False)\n"
     ]
    },
    {
     "name": "stderr",
     "output_type": "stream",
     "text": [
      "[Parallel(n_jobs=1)]: Done 200 out of 200 | elapsed:    9.9s finished\n"
     ]
    }
   ],
   "source": [
    "# Parameter's to search\n",
    "Cs = [0.001, 0.01, 0.1, 1, 5, 10, 15, 20, 50, 100]\n",
    "gammas = [0.001, 0.01, 0.1, 1]\n",
    "\n",
    "# Setting up parameter grid\n",
    "hyperparams = {'C': Cs, 'gamma' : gammas}\n",
    "\n",
    "# Run GridSearch CV\n",
    "gd=GridSearchCV(estimator = SVC(probability=True), param_grid = hyperparams, \n",
    "                verbose=True, cv=5, scoring = \"accuracy\")\n",
    "\n",
    "# Fitting model and return results\n",
    "gd.fit(X_train, y_train)\n",
    "print(gd.best_score_)\n",
    "print(gd.best_estimator_)"
   ]
  },
  {
   "cell_type": "markdown",
   "metadata": {
    "_uuid": "97c31bc868be3027b1c54d05a426e636606c0660"
   },
   "source": [
    "#### Gradient Boosting Classifier\n",
    "Note: There are many more parameter's that could, and possibly should be tested here, but in the interest i've limited the tuning to establishing the appropriate learning_rate vs n_estimators trade off. The higher one value, the lower the other."
   ]
  },
  {
   "cell_type": "code",
   "execution_count": 66,
   "metadata": {
    "_uuid": "bdc994c29c91557a4e7f98400d46a185d823a616"
   },
   "outputs": [
    {
     "name": "stderr",
     "output_type": "stream",
     "text": [
      "[Parallel(n_jobs=1)]: Using backend SequentialBackend with 1 concurrent workers.\n"
     ]
    },
    {
     "name": "stdout",
     "output_type": "stream",
     "text": [
      "Fitting 5 folds for each of 56 candidates, totalling 280 fits\n"
     ]
    },
    {
     "name": "stderr",
     "output_type": "stream",
     "text": [
      "[Parallel(n_jobs=1)]: Done 280 out of 280 | elapsed:  2.5min finished\n"
     ]
    },
    {
     "name": "stdout",
     "output_type": "stream",
     "text": [
      "0.856341189674523\n",
      "GradientBoostingClassifier(criterion='friedman_mse', init=None,\n",
      "                           learning_rate=0.0005, loss='deviance', max_depth=3,\n",
      "                           max_features=None, max_leaf_nodes=None,\n",
      "                           min_impurity_decrease=0.0, min_impurity_split=None,\n",
      "                           min_samples_leaf=1, min_samples_split=2,\n",
      "                           min_weight_fraction_leaf=0.0, n_estimators=1250,\n",
      "                           n_iter_no_change=None, presort='auto',\n",
      "                           random_state=None, subsample=1.0, tol=0.0001,\n",
      "                           validation_fraction=0.1, verbose=0,\n",
      "                           warm_start=False)\n"
     ]
    }
   ],
   "source": [
    "# Parameter's to search\n",
    "learning_rate = [0.0001, 0.0005, 0.001, 0.005, 0.01, 0.05, 0.1, 0.2]\n",
    "n_estimators = [100, 250, 500, 750, 1000, 1250, 1500]\n",
    "\n",
    "# Setting up parameter grid\n",
    "hyperparams = {'learning_rate': learning_rate, 'n_estimators': n_estimators}\n",
    "\n",
    "# Run GridSearch CV\n",
    "gd=GridSearchCV(estimator = GradientBoostingClassifier(), param_grid = hyperparams, \n",
    "                verbose=True, cv=5, scoring = \"accuracy\")\n",
    "\n",
    "# Fitting model and return results\n",
    "gd.fit(X_train, y_train)\n",
    "print(gd.best_score_)\n",
    "print(gd.best_estimator_)"
   ]
  },
  {
   "cell_type": "markdown",
   "metadata": {
    "_uuid": "ea5e4ab1eac2a2f3670345e78c309271e62603fe"
   },
   "source": [
    "#### Logistic Regression"
   ]
  },
  {
   "cell_type": "code",
   "execution_count": 67,
   "metadata": {
    "_uuid": "0571eaf303d947d87d6fda45a8f6f45fdfa5c480"
   },
   "outputs": [
    {
     "name": "stdout",
     "output_type": "stream",
     "text": [
      "Fitting 5 folds for each of 20 candidates, totalling 100 fits\n"
     ]
    },
    {
     "name": "stderr",
     "output_type": "stream",
     "text": [
      "[Parallel(n_jobs=1)]: Using backend SequentialBackend with 1 concurrent workers.\n"
     ]
    },
    {
     "name": "stdout",
     "output_type": "stream",
     "text": [
      "0.8507295173961841\n",
      "LogisticRegression(C=2.7825594022071245, class_weight=None, dual=False,\n",
      "                   fit_intercept=True, intercept_scaling=1, l1_ratio=None,\n",
      "                   max_iter=100, multi_class='warn', n_jobs=None, penalty='l2',\n",
      "                   random_state=None, solver='warn', tol=0.0001, verbose=0,\n",
      "                   warm_start=False)\n"
     ]
    },
    {
     "name": "stderr",
     "output_type": "stream",
     "text": [
      "[Parallel(n_jobs=1)]: Done 100 out of 100 | elapsed:    0.2s finished\n"
     ]
    }
   ],
   "source": [
    "# Parameter's to search\n",
    "penalty = ['l1', 'l2']\n",
    "C = np.logspace(0, 4, 10)\n",
    "\n",
    "# Setting up parameter grid\n",
    "hyperparams = {'penalty': penalty, 'C': C}\n",
    "\n",
    "# Run GridSearch CV\n",
    "gd=GridSearchCV(estimator = LogisticRegression(), param_grid = hyperparams, \n",
    "                verbose=True, cv=5, scoring = \"accuracy\")\n",
    "\n",
    "# Fitting model and return results\n",
    "gd.fit(X_train, y_train)\n",
    "print(gd.best_score_)\n",
    "print(gd.best_estimator_)"
   ]
  },
  {
   "cell_type": "markdown",
   "metadata": {
    "_uuid": "07f6b4afd04b0756fd26085cba33ffc7c814bd86"
   },
   "source": [
    "#### XGBoost\n",
    "##### Step 1\n",
    "Gradient boosting algorithms are best tuned sequentially - it's less expensive and can yield better results. I'll demonstrate the approach for XGBoost. I could have done the same for the Gradient Boosting classifier, but it's a slower algorithm to run and I am obviously too impatient! Each time I find the appropriate parameter value, i'll specify this within my model in the subsequent testing step."
   ]
  },
  {
   "cell_type": "code",
   "execution_count": 68,
   "metadata": {
    "_uuid": "92cada9f193d09ccaee7324cfe1522a7cda3f557"
   },
   "outputs": [
    {
     "name": "stderr",
     "output_type": "stream",
     "text": [
      "[Parallel(n_jobs=1)]: Using backend SequentialBackend with 1 concurrent workers.\n"
     ]
    },
    {
     "name": "stdout",
     "output_type": "stream",
     "text": [
      "Fitting 5 folds for each of 72 candidates, totalling 360 fits\n",
      "0.856341189674523\n",
      "XGBClassifier(base_score=0.5, booster='gbtree', colsample_bylevel=1,\n",
      "              colsample_bynode=1, colsample_bytree=1, gamma=0,\n",
      "              learning_rate=0.0001, max_delta_step=0, max_depth=3,\n",
      "              min_child_weight=1, missing=None, n_estimators=10, n_jobs=1,\n",
      "              nthread=None, objective='binary:logistic', random_state=0,\n",
      "              reg_alpha=0, reg_lambda=1, scale_pos_weight=1, seed=None,\n",
      "              silent=None, subsample=1, verbosity=1)\n"
     ]
    },
    {
     "name": "stderr",
     "output_type": "stream",
     "text": [
      "[Parallel(n_jobs=1)]: Done 360 out of 360 | elapsed:   39.0s finished\n"
     ]
    }
   ],
   "source": [
    "# Parameter's to search\n",
    "learning_rate = [0.0001, 0.0005, 0.001, 0.005, 0.01, 0.05, 0.1, 0.2]\n",
    "n_estimators = [10, 25, 50, 75, 100, 250, 500, 750, 1000]\n",
    "\n",
    "# Setting up parameter grid\n",
    "hyperparams = {'learning_rate': learning_rate, 'n_estimators': n_estimators}\n",
    "\n",
    "# Run GridSearch CV\n",
    "gd=GridSearchCV(estimator = XGBClassifier(), param_grid = hyperparams, \n",
    "                verbose=True, cv=5, scoring = \"accuracy\")\n",
    "\n",
    "# Fitting model and return results\n",
    "gd.fit(X_train, y_train)\n",
    "print(gd.best_score_)\n",
    "print(gd.best_estimator_)"
   ]
  },
  {
   "cell_type": "markdown",
   "metadata": {
    "_uuid": "ae2cb7d1095b39bc22c35b7b65df635708d85095"
   },
   "source": [
    "##### Step 2"
   ]
  },
  {
   "cell_type": "code",
   "execution_count": 69,
   "metadata": {
    "_uuid": "6a40083a055eab727a943ef43fc1ddd6aa0771b6"
   },
   "outputs": [
    {
     "name": "stderr",
     "output_type": "stream",
     "text": [
      "[Parallel(n_jobs=1)]: Using backend SequentialBackend with 1 concurrent workers.\n"
     ]
    },
    {
     "name": "stdout",
     "output_type": "stream",
     "text": [
      "Fitting 5 folds for each of 48 candidates, totalling 240 fits\n",
      "0.856341189674523\n",
      "XGBClassifier(base_score=0.5, booster='gbtree', colsample_bylevel=1,\n",
      "              colsample_bynode=1, colsample_bytree=1, gamma=0,\n",
      "              learning_rate=0.0001, max_delta_step=0, max_depth=3,\n",
      "              min_child_weight=1, missing=None, n_estimators=10, n_jobs=1,\n",
      "              nthread=None, objective='binary:logistic', random_state=0,\n",
      "              reg_alpha=0, reg_lambda=1, scale_pos_weight=1, seed=None,\n",
      "              silent=None, subsample=1, verbosity=1)\n"
     ]
    },
    {
     "name": "stderr",
     "output_type": "stream",
     "text": [
      "[Parallel(n_jobs=1)]: Done 240 out of 240 | elapsed:    1.5s finished\n"
     ]
    }
   ],
   "source": [
    "max_depth = [3, 4, 5, 6, 7, 8, 9, 10]\n",
    "min_child_weight = [1, 2, 3, 4, 5, 6]\n",
    "\n",
    "hyperparams = {'max_depth': max_depth, 'min_child_weight': min_child_weight}\n",
    "\n",
    "gd=GridSearchCV(estimator = XGBClassifier(learning_rate=0.0001, n_estimators=10), param_grid = hyperparams, \n",
    "                verbose=True, cv=5, scoring = \"accuracy\")\n",
    "\n",
    "gd.fit(X_train, y_train)\n",
    "print(gd.best_score_)\n",
    "print(gd.best_estimator_)"
   ]
  },
  {
   "cell_type": "markdown",
   "metadata": {
    "_uuid": "48652a9a82b1f5ff116cf5dc5057741aa07810f0"
   },
   "source": [
    "##### Step 3"
   ]
  },
  {
   "cell_type": "code",
   "execution_count": 70,
   "metadata": {
    "_uuid": "49e116fa2b05e8b23912b0ee11639c4ed4877fd8"
   },
   "outputs": [
    {
     "name": "stdout",
     "output_type": "stream",
     "text": [
      "Fitting 5 folds for each of 5 candidates, totalling 25 fits\n",
      "0.856341189674523\n",
      "XGBClassifier(base_score=0.5, booster='gbtree', colsample_bylevel=1,\n",
      "              colsample_bynode=1, colsample_bytree=1, gamma=0.0,\n",
      "              learning_rate=0.0001, max_delta_step=0, max_depth=3,\n",
      "              min_child_weight=1, missing=None, n_estimators=10, n_jobs=1,\n",
      "              nthread=None, objective='binary:logistic', random_state=0,\n",
      "              reg_alpha=0, reg_lambda=1, scale_pos_weight=1, seed=None,\n",
      "              silent=None, subsample=1, verbosity=1)\n"
     ]
    },
    {
     "name": "stderr",
     "output_type": "stream",
     "text": [
      "[Parallel(n_jobs=1)]: Using backend SequentialBackend with 1 concurrent workers.\n",
      "[Parallel(n_jobs=1)]: Done  25 out of  25 | elapsed:    0.1s finished\n"
     ]
    }
   ],
   "source": [
    "gamma = [i*0.1 for i in range(0,5)]\n",
    "\n",
    "hyperparams = {'gamma': gamma}\n",
    "\n",
    "gd=GridSearchCV(estimator = XGBClassifier(learning_rate=0.0001, n_estimators=10, max_depth=3, \n",
    "                                          min_child_weight=1), param_grid = hyperparams, \n",
    "                verbose=True, cv=5, scoring = \"accuracy\")\n",
    "\n",
    "gd.fit(X_train, y_train)\n",
    "print(gd.best_score_)\n",
    "print(gd.best_estimator_)"
   ]
  },
  {
   "cell_type": "markdown",
   "metadata": {
    "_uuid": "756ae4871dc0201ecbcc59c8dcad3bff3e912605"
   },
   "source": [
    "##### Step 4"
   ]
  },
  {
   "cell_type": "code",
   "execution_count": 71,
   "metadata": {
    "_uuid": "a8804dad2188fac6b10a43d3d85ea7bdbce1dde9"
   },
   "outputs": [
    {
     "name": "stderr",
     "output_type": "stream",
     "text": [
      "[Parallel(n_jobs=1)]: Using backend SequentialBackend with 1 concurrent workers.\n"
     ]
    },
    {
     "name": "stdout",
     "output_type": "stream",
     "text": [
      "Fitting 5 folds for each of 81 candidates, totalling 405 fits\n",
      "0.856341189674523\n",
      "XGBClassifier(base_score=0.5, booster='gbtree', colsample_bylevel=1,\n",
      "              colsample_bynode=1, colsample_bytree=0.9, gamma=0,\n",
      "              learning_rate=0.0001, max_delta_step=0, max_depth=3,\n",
      "              min_child_weight=1, missing=None, n_estimators=10, n_jobs=1,\n",
      "              nthread=None, objective='binary:logistic', random_state=0,\n",
      "              reg_alpha=0, reg_lambda=1, scale_pos_weight=1, seed=None,\n",
      "              silent=None, subsample=0.7, verbosity=1)\n"
     ]
    },
    {
     "name": "stderr",
     "output_type": "stream",
     "text": [
      "[Parallel(n_jobs=1)]: Done 405 out of 405 | elapsed:    2.0s finished\n"
     ]
    }
   ],
   "source": [
    "subsample = [0.6, 0.65, 0.7, 0.75, 0.8, 0.85, 0.9, 0.95, 1]\n",
    "colsample_bytree = [0.6, 0.65, 0.7, 0.75, 0.8, 0.85, 0.9, 0.95, 1]\n",
    "    \n",
    "hyperparams = {'subsample': subsample, 'colsample_bytree': colsample_bytree}\n",
    "\n",
    "gd=GridSearchCV(estimator = XGBClassifier(learning_rate=0.0001, n_estimators=10, max_depth=3, \n",
    "                                          min_child_weight=1, gamma=0), param_grid = hyperparams, \n",
    "                verbose=True, cv=5, scoring = \"accuracy\")\n",
    "\n",
    "gd.fit(X_train, y_train)\n",
    "print(gd.best_score_)\n",
    "print(gd.best_estimator_)"
   ]
  },
  {
   "cell_type": "markdown",
   "metadata": {
    "_uuid": "25e3f9937cfdca63252204ccbc202cf2ac16ce61"
   },
   "source": [
    "##### Step 5"
   ]
  },
  {
   "cell_type": "code",
   "execution_count": 72,
   "metadata": {
    "_uuid": "7292efac8eee5c486a4a05f75eed93f5858c8085"
   },
   "outputs": [
    {
     "name": "stdout",
     "output_type": "stream",
     "text": [
      "Fitting 5 folds for each of 5 candidates, totalling 25 fits\n",
      "0.8552188552188552\n",
      "XGBClassifier(base_score=0.5, booster='gbtree', colsample_bylevel=1,\n",
      "              colsample_bynode=1, colsample_bytree=0.9, gamma=0,\n",
      "              learning_rate=0.0001, max_delta_step=0, max_depth=3,\n",
      "              min_child_weight=1, missing=None, n_estimators=10, n_jobs=1,\n",
      "              nthread=None, objective='binary:logistic', random_state=0,\n",
      "              reg_alpha=1e-05, reg_lambda=1, scale_pos_weight=1, seed=None,\n",
      "              silent=None, subsample=0.6, verbosity=1)\n"
     ]
    },
    {
     "name": "stderr",
     "output_type": "stream",
     "text": [
      "[Parallel(n_jobs=1)]: Using backend SequentialBackend with 1 concurrent workers.\n",
      "[Parallel(n_jobs=1)]: Done  25 out of  25 | elapsed:    0.1s finished\n"
     ]
    }
   ],
   "source": [
    "reg_alpha = [1e-5, 1e-2, 0.1, 1, 100]\n",
    "    \n",
    "hyperparams = {'reg_alpha': reg_alpha}\n",
    "\n",
    "gd=GridSearchCV(estimator = XGBClassifier(learning_rate=0.0001, n_estimators=10, max_depth=3, \n",
    "                                          min_child_weight=1, gamma=0, subsample=0.6, colsample_bytree=0.9),\n",
    "                                         param_grid = hyperparams, verbose=True, cv=5, scoring = \"accuracy\")\n",
    "\n",
    "gd.fit(X_train, y_train)\n",
    "print(gd.best_score_)\n",
    "print(gd.best_estimator_)"
   ]
  },
  {
   "cell_type": "markdown",
   "metadata": {
    "_uuid": "dfb63927dc87ae7f71c6fb277fc89302b37fdaf8"
   },
   "source": [
    "#### Gaussian Process"
   ]
  },
  {
   "cell_type": "code",
   "execution_count": 73,
   "metadata": {
    "_uuid": "96fc7793e2279812444d10e544da126421d9bf77"
   },
   "outputs": [
    {
     "name": "stderr",
     "output_type": "stream",
     "text": [
      "[Parallel(n_jobs=1)]: Using backend SequentialBackend with 1 concurrent workers.\n"
     ]
    },
    {
     "name": "stdout",
     "output_type": "stream",
     "text": [
      "Fitting 5 folds for each of 64 candidates, totalling 320 fits\n",
      "0.856341189674523\n",
      "GaussianProcessClassifier(copy_X_train=True, kernel=None, max_iter_predict=1,\n",
      "                          multi_class='one_vs_rest', n_jobs=None,\n",
      "                          n_restarts_optimizer=0, optimizer='fmin_l_bfgs_b',\n",
      "                          random_state=None, warm_start=False)\n"
     ]
    },
    {
     "name": "stderr",
     "output_type": "stream",
     "text": [
      "[Parallel(n_jobs=1)]: Done 320 out of 320 | elapsed:   38.1s finished\n"
     ]
    }
   ],
   "source": [
    "# Parameter's to search\n",
    "n_restarts_optimizer = [0, 1, 2, 3]\n",
    "max_iter_predict = [1, 2, 5, 10, 20, 35, 50, 100]\n",
    "warm_start = [True, False]\n",
    "\n",
    "# Setting up parameter grid\n",
    "hyperparams = {'n_restarts_optimizer': n_restarts_optimizer, 'max_iter_predict': max_iter_predict, 'warm_start': warm_start}\n",
    "\n",
    "# Run GridSearch CV\n",
    "gd=GridSearchCV(estimator = GaussianProcessClassifier(), param_grid = hyperparams, \n",
    "                verbose=True, cv=5, scoring = \"accuracy\")\n",
    "\n",
    "# Fitting model and return results\n",
    "gd.fit(X_train, y_train)\n",
    "print(gd.best_score_)\n",
    "print(gd.best_estimator_)"
   ]
  },
  {
   "cell_type": "markdown",
   "metadata": {
    "_uuid": "8b9b1669a323372546a46ac2c1b7a7bb17b1c01b"
   },
   "source": [
    "#### Adaboost"
   ]
  },
  {
   "cell_type": "code",
   "execution_count": 74,
   "metadata": {
    "_uuid": "79ef4cc433852b73ae9343c190ff08817fd70108"
   },
   "outputs": [
    {
     "name": "stderr",
     "output_type": "stream",
     "text": [
      "[Parallel(n_jobs=1)]: Using backend SequentialBackend with 1 concurrent workers.\n"
     ]
    },
    {
     "name": "stdout",
     "output_type": "stream",
     "text": [
      "Fitting 5 folds for each of 56 candidates, totalling 280 fits\n",
      "0.8473625140291807\n",
      "AdaBoostClassifier(algorithm='SAMME.R', base_estimator=None, learning_rate=0.1,\n",
      "                   n_estimators=50, random_state=None)\n"
     ]
    },
    {
     "name": "stderr",
     "output_type": "stream",
     "text": [
      "[Parallel(n_jobs=1)]: Done 280 out of 280 | elapsed:   37.1s finished\n"
     ]
    }
   ],
   "source": [
    "# Parameter's to search\n",
    "n_estimators = [10, 25, 50, 75, 100, 125, 150, 200]\n",
    "learning_rate = [0.001, 0.01, 0.1, 0.5, 1, 1.5, 2]\n",
    "\n",
    "# Setting up parameter grid\n",
    "hyperparams = {'n_estimators': n_estimators, 'learning_rate': learning_rate}\n",
    "\n",
    "# Run GridSearch CV\n",
    "gd=GridSearchCV(estimator = AdaBoostClassifier(), param_grid = hyperparams, \n",
    "                verbose=True, cv=5, scoring = \"accuracy\")\n",
    "\n",
    "# Fitting model and return results\n",
    "gd.fit(X_train, y_train)\n",
    "print(gd.best_score_)\n",
    "print(gd.best_estimator_)"
   ]
  },
  {
   "cell_type": "markdown",
   "metadata": {
    "_uuid": "e9db556193700bbf8d1fd8c8cc2cf3391d0160f2"
   },
   "source": [
    "#### K Nearest Neighbours"
   ]
  },
  {
   "cell_type": "code",
   "execution_count": 75,
   "metadata": {
    "_uuid": "c25a650729bda04cc20c1861a4eb5550d4e3faf8"
   },
   "outputs": [
    {
     "name": "stderr",
     "output_type": "stream",
     "text": [
      "[Parallel(n_jobs=1)]: Using backend SequentialBackend with 1 concurrent workers.\n"
     ]
    },
    {
     "name": "stdout",
     "output_type": "stream",
     "text": [
      "Fitting 5 folds for each of 300 candidates, totalling 1500 fits\n",
      "0.8518518518518519\n",
      "KNeighborsClassifier(algorithm='auto', leaf_size=1, metric='minkowski',\n",
      "                     metric_params=None, n_jobs=None, n_neighbors=5, p=2,\n",
      "                     weights='uniform')\n"
     ]
    },
    {
     "name": "stderr",
     "output_type": "stream",
     "text": [
      "[Parallel(n_jobs=1)]: Done 1500 out of 1500 | elapsed:    9.5s finished\n"
     ]
    }
   ],
   "source": [
    "# Parameter's to search\n",
    "n_neighbors = [1, 2, 3, 4, 5, 6, 7, 8, 9, 10, 12, 14, 16, 18, 20]\n",
    "algorithm = ['auto']\n",
    "weights = ['uniform', 'distance']\n",
    "leaf_size = [1, 2, 3, 4, 5, 10, 15, 20, 25, 30]\n",
    "\n",
    "# Setting up parameter grid\n",
    "hyperparams = {'algorithm': algorithm, 'weights': weights, 'leaf_size': leaf_size, \n",
    "               'n_neighbors': n_neighbors}\n",
    "\n",
    "# Run GridSearch CV\n",
    "gd=GridSearchCV(estimator = KNeighborsClassifier(), param_grid = hyperparams, \n",
    "                verbose=True, cv=5, scoring = \"accuracy\")\n",
    "\n",
    "# Fitting model and return results\n",
    "gd.fit(X_train, y_train)\n",
    "print(gd.best_score_)\n",
    "print(gd.best_estimator_)"
   ]
  },
  {
   "cell_type": "markdown",
   "metadata": {
    "_uuid": "59128f91cdbc12ccdcfcd2aa79edc923ee3c4127"
   },
   "source": [
    "#### Random Forest"
   ]
  },
  {
   "cell_type": "code",
   "execution_count": 76,
   "metadata": {
    "_uuid": "da339a7d792902cb7300a991e1b3a14cf04bcdea"
   },
   "outputs": [
    {
     "name": "stderr",
     "output_type": "stream",
     "text": [
      "[Parallel(n_jobs=1)]: Using backend SequentialBackend with 1 concurrent workers.\n"
     ]
    },
    {
     "name": "stdout",
     "output_type": "stream",
     "text": [
      "Fitting 5 folds for each of 1000 candidates, totalling 5000 fits\n",
      "0.8608305274971941\n",
      "RandomForestClassifier(bootstrap=True, class_weight=None, criterion='gini',\n",
      "                       max_depth=None, max_features=7, max_leaf_nodes=None,\n",
      "                       min_impurity_decrease=0.0, min_impurity_split=None,\n",
      "                       min_samples_leaf=4, min_samples_split=2,\n",
      "                       min_weight_fraction_leaf=0.0, n_estimators=10,\n",
      "                       n_jobs=None, oob_score=False, random_state=None,\n",
      "                       verbose=0, warm_start=False)\n"
     ]
    },
    {
     "name": "stderr",
     "output_type": "stream",
     "text": [
      "[Parallel(n_jobs=1)]: Done 5000 out of 5000 | elapsed:  6.6min finished\n"
     ]
    }
   ],
   "source": [
    "# Parameter's to search\n",
    "n_estimators = [10, 25, 50, 75, 100]\n",
    "max_depth = [3, None]\n",
    "max_features = [1, 3, 5, 7]\n",
    "min_samples_split = [2, 4, 6, 8, 10]\n",
    "min_samples_leaf = [2, 4, 6, 8, 10]\n",
    "\n",
    "# Setting up parameter grid\n",
    "hyperparams = {'n_estimators': n_estimators, 'max_depth': max_depth, 'max_features': max_features,\n",
    "               'min_samples_split': min_samples_split, 'min_samples_leaf': min_samples_leaf}\n",
    "\n",
    "# Run GridSearch CV\n",
    "gd=GridSearchCV(estimator = RandomForestClassifier(), param_grid = hyperparams, \n",
    "                verbose=True, cv=5, scoring = \"accuracy\")\n",
    "\n",
    "# Fitting model and return results\n",
    "gd.fit(X_train, y_train)\n",
    "print(gd.best_score_)\n",
    "print(gd.best_estimator_)"
   ]
  },
  {
   "cell_type": "markdown",
   "metadata": {
    "_uuid": "627b409769882e616546b5352bdc597b7673c0bb"
   },
   "source": [
    "#### Extra Trees"
   ]
  },
  {
   "cell_type": "code",
   "execution_count": 77,
   "metadata": {
    "_uuid": "11ab375ed1d22cb73db97f9e5d3df5a85b586dc4"
   },
   "outputs": [
    {
     "name": "stderr",
     "output_type": "stream",
     "text": [
      "[Parallel(n_jobs=1)]: Using backend SequentialBackend with 1 concurrent workers.\n"
     ]
    },
    {
     "name": "stdout",
     "output_type": "stream",
     "text": [
      "Fitting 5 folds for each of 1000 candidates, totalling 5000 fits\n",
      "0.8574635241301908\n",
      "ExtraTreesClassifier(bootstrap=False, class_weight=None, criterion='gini',\n",
      "                     max_depth=None, max_features=1, max_leaf_nodes=None,\n",
      "                     min_impurity_decrease=0.0, min_impurity_split=None,\n",
      "                     min_samples_leaf=2, min_samples_split=2,\n",
      "                     min_weight_fraction_leaf=0.0, n_estimators=50, n_jobs=None,\n",
      "                     oob_score=False, random_state=None, verbose=0,\n",
      "                     warm_start=False)\n"
     ]
    },
    {
     "name": "stderr",
     "output_type": "stream",
     "text": [
      "[Parallel(n_jobs=1)]: Done 5000 out of 5000 | elapsed:  4.2min finished\n"
     ]
    }
   ],
   "source": [
    "# Parameter's to search\n",
    "n_estimators = [10, 25, 50, 75, 100]\n",
    "max_depth = [3, None]\n",
    "max_features = [1, 3, 5, 7]\n",
    "min_samples_split = [2, 4, 6, 8, 10]\n",
    "min_samples_leaf = [2, 4, 6, 8, 10]\n",
    "\n",
    "# Setting up parameter grid\n",
    "hyperparams = {'n_estimators': n_estimators, 'max_depth': max_depth, 'max_features': max_features,\n",
    "               'min_samples_split': min_samples_split, 'min_samples_leaf': min_samples_leaf}\n",
    "\n",
    "# Run GridSearch CV\n",
    "gd=GridSearchCV(estimator = ExtraTreesClassifier(), param_grid = hyperparams, \n",
    "                verbose=True, cv=5, scoring = \"accuracy\")\n",
    "\n",
    "# Fitting model and return results\n",
    "gd.fit(X_train, y_train)\n",
    "print(gd.best_score_)\n",
    "print(gd.best_estimator_)"
   ]
  },
  {
   "cell_type": "markdown",
   "metadata": {
    "_uuid": "ec7989fd0cdda4f7f71ffb432420e7f1100ad899"
   },
   "source": [
    "#### Bagging Classifier"
   ]
  },
  {
   "cell_type": "code",
   "execution_count": 78,
   "metadata": {
    "_uuid": "c801f95e57c131c40ff4ca835894d6c28b82fafa"
   },
   "outputs": [
    {
     "name": "stderr",
     "output_type": "stream",
     "text": [
      "[Parallel(n_jobs=1)]: Using backend SequentialBackend with 1 concurrent workers.\n"
     ]
    },
    {
     "name": "stdout",
     "output_type": "stream",
     "text": [
      "Fitting 5 folds for each of 352 candidates, totalling 1760 fits\n",
      "0.8540965207631874\n",
      "BaggingClassifier(base_estimator=None, bootstrap=True, bootstrap_features=False,\n",
      "                  max_features=5, max_samples=50, n_estimators=25, n_jobs=None,\n",
      "                  oob_score=False, random_state=None, verbose=0,\n",
      "                  warm_start=False)\n"
     ]
    },
    {
     "name": "stderr",
     "output_type": "stream",
     "text": [
      "[Parallel(n_jobs=1)]: Done 1760 out of 1760 | elapsed:  2.0min finished\n"
     ]
    }
   ],
   "source": [
    "# Parameter's to search\n",
    "n_estimators = [10, 15, 20, 25, 50, 75, 100, 150]\n",
    "max_samples = [1, 2, 3, 5, 7, 10, 15, 20, 25, 30, 50]\n",
    "max_features = [1, 3, 5, 7]\n",
    "\n",
    "# Setting up parameter grid\n",
    "hyperparams = {'n_estimators': n_estimators, 'max_samples': max_samples, 'max_features': max_features}\n",
    "\n",
    "# Run GridSearch CV\n",
    "gd=GridSearchCV(estimator = BaggingClassifier(), param_grid = hyperparams, \n",
    "                verbose=True, cv=5, scoring = \"accuracy\")\n",
    "\n",
    "# Fitting model and return results\n",
    "gd.fit(X_train, y_train)\n",
    "print(gd.best_score_)\n",
    "print(gd.best_estimator_)"
   ]
  },
  {
   "cell_type": "markdown",
   "metadata": {
    "_uuid": "84a25afdf394e7bda59dc6cc3aed22bdd987c913"
   },
   "source": [
    "#### Gaussian Naive Bayes\n",
    "Gaussian Naive Bayes doesn't have parameters to tune, so we're stuck with the current score. This algorithm is known to be designed to work best on text data (e.g. once passed into a matrix), so perhaps in comparison to the other algorithms, it's less of a surprise to see it performing less favourably on the Titanic dataset."
   ]
  },
  {
   "cell_type": "markdown",
   "metadata": {
    "_uuid": "dfa0e1282635788485847f1441e14daf7b233e5c"
   },
   "source": [
    "### Model re-training\n",
    "We're into round three now, and hopefully optimising more of our models and really squeezing every last drop of predictive out of the dataset. I will run the same procedure as before and stack the latest results against the previous two. The only change now is that I can specify exact parameters as per the above GridSearchCV results to yield even better performance scores."
   ]
  },
  {
   "cell_type": "code",
   "execution_count": 79,
   "metadata": {
    "_uuid": "a3937528a08e3e4f670be934dd5c72b5c5e4e08d"
   },
   "outputs": [],
   "source": [
    "# Initiate tuned models\n",
    "ran = RandomForestClassifier(n_estimators=25,\n",
    "                             max_depth=3, \n",
    "                             max_features=3,\n",
    "                             min_samples_leaf=2, \n",
    "                             min_samples_split=8,  \n",
    "                             random_state=1)\n",
    "\n",
    "knn = KNeighborsClassifier(algorithm='auto', \n",
    "                           leaf_size=1, \n",
    "                           n_neighbors=5, \n",
    "                           weights='uniform')\n",
    "\n",
    "log = LogisticRegression(C=2.7825594022071245,\n",
    "                         penalty='l2')\n",
    "\n",
    "xgb = XGBClassifier(learning_rate=0.0001, \n",
    "                    n_estimators=10,\n",
    "                    random_state=1)\n",
    "\n",
    "gbc = GradientBoostingClassifier(learning_rate=0.0005,\n",
    "                                 n_estimators=1250,\n",
    "                                 random_state=1)\n",
    "\n",
    "svc = SVC(probability=True)\n",
    "\n",
    "ext = ExtraTreesClassifier(max_depth=None, \n",
    "                           max_features=3,\n",
    "                           min_samples_leaf=2, \n",
    "                           min_samples_split=8,\n",
    "                           n_estimators=10,\n",
    "                           random_state=1)\n",
    "\n",
    "ada = AdaBoostClassifier(learning_rate=0.1, \n",
    "                         n_estimators=50,\n",
    "                         random_state=1)\n",
    "\n",
    "gpc = GaussianProcessClassifier()\n",
    "\n",
    "bag = BaggingClassifier(random_state=1)\n",
    "\n",
    "# Lists\n",
    "models = [ran, knn, log, xgb, gbc, svc, ext, ada, gnb, gpc, bag]         \n",
    "scores_v3 = []\n",
    "\n",
    "# Fit & cross-validate\n",
    "for mod in models:\n",
    "    mod.fit(X_train, y_train)\n",
    "    acc = cross_val_score(mod, X_train, y_train, scoring = \"accuracy\", cv = 10)\n",
    "    scores_v3.append(acc.mean())"
   ]
  },
  {
   "cell_type": "code",
   "execution_count": 80,
   "metadata": {
    "_uuid": "b99a5b8d5fdcb13de52ad9788518179dae09a87d"
   },
   "outputs": [
    {
     "data": {
      "text/html": [
       "<div>\n",
       "<style scoped>\n",
       "    .dataframe tbody tr th:only-of-type {\n",
       "        vertical-align: middle;\n",
       "    }\n",
       "\n",
       "    .dataframe tbody tr th {\n",
       "        vertical-align: top;\n",
       "    }\n",
       "\n",
       "    .dataframe thead th {\n",
       "        text-align: right;\n",
       "    }\n",
       "</style>\n",
       "<table border=\"1\" class=\"dataframe\">\n",
       "  <thead>\n",
       "    <tr style=\"text-align: right;\">\n",
       "      <th></th>\n",
       "      <th>Model</th>\n",
       "      <th>Original Score</th>\n",
       "      <th>Score with feature selection</th>\n",
       "      <th>Score with tuned parameters</th>\n",
       "    </tr>\n",
       "  </thead>\n",
       "  <tbody>\n",
       "    <tr>\n",
       "      <td>0</td>\n",
       "      <td>Gaussian Process</td>\n",
       "      <td>0.843979</td>\n",
       "      <td>0.857475</td>\n",
       "      <td>0.857475</td>\n",
       "    </tr>\n",
       "    <tr>\n",
       "      <td>1</td>\n",
       "      <td>Extra Trees</td>\n",
       "      <td>0.822731</td>\n",
       "      <td>0.837325</td>\n",
       "      <td>0.857462</td>\n",
       "    </tr>\n",
       "    <tr>\n",
       "      <td>2</td>\n",
       "      <td>SVC</td>\n",
       "      <td>0.854079</td>\n",
       "      <td>0.857437</td>\n",
       "      <td>0.857437</td>\n",
       "    </tr>\n",
       "    <tr>\n",
       "      <td>3</td>\n",
       "      <td>XGBoost</td>\n",
       "      <td>0.856364</td>\n",
       "      <td>0.856326</td>\n",
       "      <td>0.856301</td>\n",
       "    </tr>\n",
       "    <tr>\n",
       "      <td>4</td>\n",
       "      <td>Gradient Boosting</td>\n",
       "      <td>0.855215</td>\n",
       "      <td>0.856313</td>\n",
       "      <td>0.856301</td>\n",
       "    </tr>\n",
       "    <tr>\n",
       "      <td>5</td>\n",
       "      <td>Random Forest</td>\n",
       "      <td>0.830521</td>\n",
       "      <td>0.840633</td>\n",
       "      <td>0.852930</td>\n",
       "    </tr>\n",
       "    <tr>\n",
       "      <td>6</td>\n",
       "      <td>K Nearest Neighbour</td>\n",
       "      <td>0.801344</td>\n",
       "      <td>0.849723</td>\n",
       "      <td>0.849673</td>\n",
       "    </tr>\n",
       "    <tr>\n",
       "      <td>7</td>\n",
       "      <td>AdaBoost</td>\n",
       "      <td>0.841794</td>\n",
       "      <td>0.837300</td>\n",
       "      <td>0.849584</td>\n",
       "    </tr>\n",
       "    <tr>\n",
       "      <td>8</td>\n",
       "      <td>Logistic Regression</td>\n",
       "      <td>0.847388</td>\n",
       "      <td>0.848524</td>\n",
       "      <td>0.848524</td>\n",
       "    </tr>\n",
       "    <tr>\n",
       "      <td>9</td>\n",
       "      <td>Bagging Classifier</td>\n",
       "      <td>0.833917</td>\n",
       "      <td>0.841731</td>\n",
       "      <td>0.841731</td>\n",
       "    </tr>\n",
       "    <tr>\n",
       "      <td>10</td>\n",
       "      <td>Gaussian Naive Bayes</td>\n",
       "      <td>0.813830</td>\n",
       "      <td>0.822705</td>\n",
       "      <td>0.822705</td>\n",
       "    </tr>\n",
       "  </tbody>\n",
       "</table>\n",
       "</div>"
      ],
      "text/plain": [
       "                   Model  Original Score  Score with feature selection  \\\n",
       "0       Gaussian Process        0.843979                      0.857475   \n",
       "1            Extra Trees        0.822731                      0.837325   \n",
       "2                    SVC        0.854079                      0.857437   \n",
       "3                XGBoost        0.856364                      0.856326   \n",
       "4      Gradient Boosting        0.855215                      0.856313   \n",
       "5          Random Forest        0.830521                      0.840633   \n",
       "6    K Nearest Neighbour        0.801344                      0.849723   \n",
       "7               AdaBoost        0.841794                      0.837300   \n",
       "8    Logistic Regression        0.847388                      0.848524   \n",
       "9     Bagging Classifier        0.833917                      0.841731   \n",
       "10  Gaussian Naive Bayes        0.813830                      0.822705   \n",
       "\n",
       "    Score with tuned parameters  \n",
       "0                      0.857475  \n",
       "1                      0.857462  \n",
       "2                      0.857437  \n",
       "3                      0.856301  \n",
       "4                      0.856301  \n",
       "5                      0.852930  \n",
       "6                      0.849673  \n",
       "7                      0.849584  \n",
       "8                      0.848524  \n",
       "9                      0.841731  \n",
       "10                     0.822705  "
      ]
     },
     "execution_count": 80,
     "metadata": {},
     "output_type": "execute_result"
    }
   ],
   "source": [
    "# Creating a table of results, ranked highest to lowest\n",
    "results = pd.DataFrame({\n",
    "    'Model': ['Random Forest', 'K Nearest Neighbour', 'Logistic Regression', 'XGBoost', 'Gradient Boosting', 'SVC', 'Extra Trees', 'AdaBoost', 'Gaussian Naive Bayes', 'Gaussian Process', 'Bagging Classifier'],\n",
    "    'Original Score': scores,\n",
    "    'Score with feature selection': scores_v2,\n",
    "    'Score with tuned parameters': scores_v3})\n",
    "\n",
    "result_df = results.sort_values(by='Score with tuned parameters', ascending=False).reset_index(drop=True)\n",
    "result_df.head(11)"
   ]
  },
  {
   "cell_type": "code",
   "execution_count": 81,
   "metadata": {
    "_uuid": "19c9a20693c07c57aa97bfd8271ba7574b0694e4"
   },
   "outputs": [
    {
     "data": {
      "text/plain": [
       "(0.82, 0.86)"
      ]
     },
     "execution_count": 81,
     "metadata": {},
     "output_type": "execute_result"
    },
    {
     "data": {
      "image/png": "[encoded data removed]",
      "text/plain": [
       "<Figure size 432x288 with 1 Axes>"
      ]
     },
     "metadata": {},
     "output_type": "display_data"
    }
   ],
   "source": [
    "# Plot results\n",
    "sns.barplot(x='Score with tuned parameters', y = 'Model', data = result_df, color = 'c')\n",
    "plt.title('Machine Learning Algorithm Accuracy Score \\n')\n",
    "plt.xlabel('Accuracy Score (%)')\n",
    "plt.ylabel('Algorithm')\n",
    "plt.xlim(0.82, 0.86)"
   ]
  },
  {
   "cell_type": "markdown",
   "metadata": {
    "_uuid": "ecdffb3610c39a1802e61ae4d98a8d619bcb2a06"
   },
   "source": [
    "Round 3 results in and Gaussian Process remains our strongest model. I actually omitted parameters for a few models where I saw the score had dropped subsequent to specifying them - I presume this could be because I did not test the full set of parameters in those cases. So the Gaussian Process score remains as before but for the Extra Trees Classifier, it has shot right up into 2nd place after a 2% jump in accuracy. Aside from the Gaussian Naive Bayes, each model now predicts with over 84% accuracy which I am really pleased to see. A strong set of final models which I can now carry forward into the final step 4 - Voting Classifier."
   ]
  },
  {
   "cell_type": "markdown",
   "metadata": {
    "_uuid": "45a38a68d8d46a21f8debb4d585ea4af552dd195"
   },
   "source": [
    "### Round 4: Voting Classifier\n",
    "Voting is one of the simplest ways of combining the predictions from multiple machine learning algorithms.\n",
    "\n",
    "It works by first creating two or more standalone models from your training dataset. A Voting Classifier can then be used to wrap your models and average the predictions of the sub-models when asked to make predictions for new data.\n",
    "\n",
    "There are two types of Voting Classifier, hard or soft. I saw a very simple explanation on a Q&A forum which i'll share with you now to explain the difference in approach:\n",
    "\n",
    "- Suppose you have probabilities: 0.45 0.45 0.90\n",
    "- The hard voting would give you a score of 1/3 (1 vote in favour and 2 against), so it would classify as a \"negative\".\n",
    "- Soft voting would give you the average of the probabilities, which is 0.6, and would be a \"positive\".\n",
    "\n",
    "The code below completes both a hard and soft voting classifier on all 11 models, minus the Gaussian Naive Bayes which, due to it's poorer score, I will omit from this final step. I will then compare the scores of either classifier, before selecting the best to proceed with making final predictions."
   ]
  },
  {
   "cell_type": "code",
   "execution_count": null,
   "metadata": {
    "_uuid": "11fecd4d14ec5423d4f118fd7b73843895e3a4c4"
   },
   "outputs": [],
   "source": [
    "#Hard Vote or majority rules w/Tuned Hyperparameters\n",
    "grid_hard = VotingClassifier(estimators = [('Random Forest', ran), \n",
    "                                           ('Logistic Regression', log),\n",
    "                                           ('XGBoost', xgb),\n",
    "                                           ('Gradient Boosting', gbc),\n",
    "                                           ('Extra Trees', ext),\n",
    "                                           ('AdaBoost', ada),\n",
    "                                           ('Gaussian Process', gpc),\n",
    "                                           ('SVC', svc),\n",
    "                                           ('K Nearest Neighbour', knn),\n",
    "                                           ('Bagging Classifier', bag)], voting = 'hard')\n",
    "\n",
    "grid_hard_cv = model_selection.cross_validate(grid_hard, X_train, y_train, cv = 10)\n",
    "grid_hard.fit(X_train, y_train)\n",
    "\n",
    "print(\"Hard voting on train set score mean: {:.2f}\". format(grid_hard_cv['train_score'].mean()*100)) \n",
    "print(\"Hard voting on test set score mean: {:.2f}\". format(grid_hard_cv['test_score'].mean()*100))"
   ]
  },
  {
   "cell_type": "code",
   "execution_count": null,
   "metadata": {
    "_uuid": "deeb10efe2943369380ab8b886ad95881bc7109d"
   },
   "outputs": [],
   "source": [
    "grid_soft = VotingClassifier(estimators = [('Random Forest', ran), \n",
    "                                           ('Logistic Regression', log),\n",
    "                                           ('XGBoost', xgb),\n",
    "                                           ('Gradient Boosting', gbc),\n",
    "                                           ('Extra Trees', ext),\n",
    "                                           ('AdaBoost', ada),\n",
    "                                           ('Gaussian Process', gpc),\n",
    "                                           ('SVC', svc),\n",
    "                                           ('K Nearest Neighbour', knn),\n",
    "                                           ('Bagging Classifier', bag)], voting = 'soft')\n",
    "\n",
    "grid_soft_cv = model_selection.cross_validate(grid_soft, X_train, y_train, cv = 10)\n",
    "grid_soft.fit(X_train, y_train)\n",
    "\n",
    "print(\"Soft voting on train set score mean: {:.2f}\". format(grid_soft_cv['train_score'].mean()*100)) \n",
    "print(\"Soft voting on test set score mean: {:.2f}\". format(grid_soft_cv['test_score'].mean()*100))"
   ]
  },
  {
   "cell_type": "markdown",
   "metadata": {
    "_uuid": "9988888a7d7200bd797ce9000f12a54b3371467c"
   },
   "source": [
    "Well it was pretty close, but for the test set the soft voting classifier came out just on top, so I will proceed to use this as my final model for prediction and submission. I'll complete that final step below before wrapping up:"
   ]
  },
  {
   "cell_type": "markdown",
   "metadata": {
    "_uuid": "8f314cfa7ed40e084d1de3f2ccc920737a67d089"
   },
   "source": [
    "## 7. Final model prediction & submission"
   ]
  },
  {
   "cell_type": "code",
   "execution_count": null,
   "metadata": {
    "_uuid": "4aa71448744fe210a9fa400889a3658e23826e7e"
   },
   "outputs": [],
   "source": [
    "# Final predictions\n",
    "predictions = grid_soft.predict(X_test)\n",
    "\n",
    "submission = pd.concat([pd.DataFrame(passId), pd.DataFrame(predictions)], axis = 'columns')\n",
    "\n",
    "submission.columns = [\"PassengerId\", \"Survived\"]\n",
    "submission.to_csv('titanic_submission.csv', header = True, index = False)"
   ]
  },
  {
   "cell_type": "markdown",
   "metadata": {
    "_uuid": "c1719cba4c41862a2e62cbe7407325dc050851da"
   },
   "source": [
    "And there we go! In this kernel I have taken several steps to analyse, clean and engineer features before applying and fine-tuning a selection of classification models for a final test set score of ~86%. I have hopefully been clear with my code and sufficient in my explanation so that you've been able to read along and enjoy the ride with me. I do intend to return to this kernel to add in more explanation where I can do and, because I am a sucker for a competition, see if I can edge myself up the leaderboard any further. Some thoughts on how I could do this include:\n",
    "\n",
    "- Exploring new features in the data\n",
    "- Using a predictive model to impute age, rather than a simple groupby operation\n",
    "- Investing more time in parameter tuning and model optimisation\n",
    "- Prioritising fewer models and thus cutting more redundant features\n",
    "- Exploring deep learning application\n",
    "\n",
    "As mentioned at the beginning, I would love to hear your feedback on my work, including what you found helpful or what perhaps needs clearer explanation. I'll do my best to help! Thanks for reading, and assuming that you are also participating in this competition - good luck!"
   ]
  }
 ],
 "metadata": {
  "kernelspec": {
   "display_name": "Python 3",
   "language": "python",
   "name": "python3"
  },
  "language_info": {
   "codemirror_mode": {
    "name": "ipython",
    "version": 3
   },
   "file_extension": ".py",
   "mimetype": "text/x-python",
   "name": "python",
   "nbconvert_exporter": "python",
   "pygments_lexer": "ipython3",
   "version": "3.7.4"
  }
 },
 "nbformat": 4,
 "nbformat_minor": 1
}
